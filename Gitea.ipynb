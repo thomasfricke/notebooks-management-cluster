{
 "cells": [
  {
   "cell_type": "code",
   "execution_count": 1,
   "id": "7734a2c2-c167-452e-81cd-2a55defc066b",
   "metadata": {},
   "outputs": [
    {
     "name": "stdout",
     "output_type": "stream",
     "text": [
      "Now using project \"gitea\" on server \"https://api.crc.testing:6443\".\n",
      "\n",
      "You can add applications to this project with the 'new-app' command. For example, try:\n",
      "\n",
      "    oc new-app rails-postgresql-example\n",
      "\n",
      "to build a new example application in Ruby. Or use kubectl to deploy a simple Kubernetes application:\n",
      "\n",
      "    kubectl create deployment hello-node --image=k8s.gcr.io/e2e-test-images/agnhost:2.33 -- /agnhost serve-hostname\n",
      "\n"
     ]
    }
   ],
   "source": [
    "oc new-project gitea"
   ]
  },
  {
   "cell_type": "code",
   "execution_count": 25,
   "id": "6904e938-92d7-420e-8a61-094be120302e",
   "metadata": {},
   "outputs": [
    {
     "name": "stdout",
     "output_type": "stream",
     "text": [
      "NAME                              PRIV    CAPS         SELINUX     RUNASUSER          FSGROUP     SUPGROUP    PRIORITY     READONLYROOTFS   VOLUMES\n",
      "anyuid                            false   <no value>   MustRunAs   RunAsAny           RunAsAny    RunAsAny    10           false            [\"configMap\",\"downwardAPI\",\"emptyDir\",\"persistentVolumeClaim\",\"projected\",\"secret\"]\n",
      "hostaccess                        false   <no value>   MustRunAs   MustRunAsRange     MustRunAs   RunAsAny    <no value>   false            [\"configMap\",\"downwardAPI\",\"emptyDir\",\"hostPath\",\"persistentVolumeClaim\",\"projected\",\"secret\"]\n",
      "hostmount-anyuid                  false   <no value>   MustRunAs   RunAsAny           RunAsAny    RunAsAny    <no value>   false            [\"configMap\",\"downwardAPI\",\"emptyDir\",\"hostPath\",\"nfs\",\"persistentVolumeClaim\",\"projected\",\"secret\"]\n",
      "hostnetwork                       false   <no value>   MustRunAs   MustRunAsRange     MustRunAs   MustRunAs   <no value>   false            [\"configMap\",\"downwardAPI\",\"emptyDir\",\"persistentVolumeClaim\",\"projected\",\"secret\"]\n",
      "machine-api-termination-handler   false   <no value>   MustRunAs   RunAsAny           MustRunAs   MustRunAs   <no value>   false            [\"downwardAPI\",\"hostPath\"]\n",
      "nonroot                           false   <no value>   MustRunAs   MustRunAsNonRoot   RunAsAny    RunAsAny    <no value>   false            [\"configMap\",\"downwardAPI\",\"emptyDir\",\"persistentVolumeClaim\",\"projected\",\"secret\"]\n",
      "privileged                        true    [\"*\"]        RunAsAny    RunAsAny           RunAsAny    RunAsAny    <no value>   false            [\"*\"]\n",
      "restricted                        false   <no value>   MustRunAs   MustRunAsRange     MustRunAs   RunAsAny    <no value>   false            [\"configMap\",\"downwardAPI\",\"emptyDir\",\"persistentVolumeClaim\",\"projected\",\"secret\"]\n"
     ]
    }
   ],
   "source": [
    "oc get scc"
   ]
  },
  {
   "cell_type": "code",
   "execution_count": 54,
   "id": "f25e148c-15f9-4b55-8e9d-e8fc10b1acbf",
   "metadata": {},
   "outputs": [
    {
     "name": "stdout",
     "output_type": "stream",
     "text": [
      "clusterrole.rbac.authorization.k8s.io/system:openshift:scc:anyuid added: \"default\"\n"
     ]
    }
   ],
   "source": [
    "oc adm policy add-scc-to-user -z default anyuid\n",
    "oc adm policy add-scc-to-user -z gitea-memcached nonroot"
   ]
  },
  {
   "cell_type": "code",
   "execution_count": 71,
   "id": "3d09117a-3d1e-426b-aacf-0d5fa0b24d5b",
   "metadata": {},
   "outputs": [
    {
     "name": "stdout",
     "output_type": "stream",
     "text": [
      "release \"gitea\" uninstalled\n"
     ]
    }
   ],
   "source": [
    "helm uninstall gitea"
   ]
  },
  {
   "cell_type": "code",
   "execution_count": 76,
   "id": "ee996d7e-b66b-46f9-bd1d-c61fd3df7b5c",
   "metadata": {},
   "outputs": [
    {
     "name": "stdout",
     "output_type": "stream",
     "text": [
      "\"gitea-charts\" already exists with the same configuration, skipping\n",
      "NAME: gitea\n",
      "LAST DEPLOYED: Thu May  5 10:41:18 2022\n",
      "NAMESPACE: gitea\n",
      "STATUS: deployed\n",
      "REVISION: 1\n",
      "NOTES:\n",
      "1. Get the application URL by running these commands:\n",
      "  echo \"Visit http://127.0.0.1:3000 to use your application\"\n",
      "  kubectl --namespace gitea port-forward svc/gitea-http 3000:3000\n"
     ]
    }
   ],
   "source": [
    "helm repo add gitea-charts https://dl.gitea.io/charts/\n",
    "helm install gitea gitea-charts/gitea"
   ]
  },
  {
   "cell_type": "code",
   "execution_count": 77,
   "id": "8930afef-f82f-44cf-b699-a18d2cf703d8",
   "metadata": {},
   "outputs": [
    {
     "name": "stdout",
     "output_type": "stream",
     "text": [
      "NAME                                   READY   STATUS              RESTARTS   AGE\n",
      "pod/gitea-0                            0/1     Init:0/3            0          3s\n",
      "pod/gitea-memcached-66f5c995fd-dv48b   0/1     ContainerCreating   0          3s\n",
      "pod/gitea-postgresql-0                 0/1     ContainerCreating   0          3s\n",
      "\n",
      "NAME                                TYPE        CLUSTER-IP     EXTERNAL-IP   PORT(S)     AGE\n",
      "service/gitea-http                  ClusterIP   None           <none>        3000/TCP    3s\n",
      "service/gitea-memcached             ClusterIP   10.217.5.147   <none>        11211/TCP   3s\n",
      "service/gitea-postgresql            ClusterIP   10.217.4.50    <none>        5432/TCP    3s\n",
      "service/gitea-postgresql-headless   ClusterIP   None           <none>        5432/TCP    3s\n",
      "service/gitea-ssh                   ClusterIP   None           <none>        22/TCP      3s\n",
      "\n",
      "NAME                              READY   UP-TO-DATE   AVAILABLE   AGE\n",
      "deployment.apps/gitea-memcached   0/1     1            0           3s\n",
      "\n",
      "NAME                                         DESIRED   CURRENT   READY   AGE\n",
      "replicaset.apps/gitea-memcached-66f5c995fd   1         1         0       3s\n",
      "\n",
      "NAME                                READY   AGE\n",
      "statefulset.apps/gitea              0/1     3s\n",
      "statefulset.apps/gitea-postgresql   0/1     3s\n",
      "\n",
      "NAME                                  HOST/PORT                           PATH   SERVICES     PORT   TERMINATION   WILDCARD\n",
      "route.route.openshift.io/gitea-http   gitea-http-gitea.apps-crc.testing          gitea-http   http                 None\n"
     ]
    }
   ],
   "source": [
    "oc get all"
   ]
  },
  {
   "cell_type": "code",
   "execution_count": 78,
   "id": "db051b21-23cc-40ce-abbf-cd4e854fa85b",
   "metadata": {},
   "outputs": [
    {
     "name": "stdout",
     "output_type": "stream",
     "text": [
      "Error from server (BadRequest): container \"gitea\" in pod \"gitea-0\" is waiting to start: PodInitializing\n"
     ]
    },
    {
     "ename": "",
     "evalue": "1",
     "output_type": "error",
     "traceback": []
    }
   ],
   "source": [
    "oc logs gitea-0  "
   ]
  },
  {
   "cell_type": "code",
   "execution_count": 79,
   "id": "bfb15427-586a-43d0-a89a-bad04f0fba59",
   "metadata": {},
   "outputs": [
    {
     "name": "stdout",
     "output_type": "stream",
     "text": [
      "Name:         gitea-0\n",
      "Namespace:    gitea\n",
      "Priority:     0\n",
      "Node:         crc-gh9wd-master-0/192.168.126.11\n",
      "Start Time:   Thu, 05 May 2022 10:41:19 +0200\n",
      "Labels:       app=gitea\n",
      "              app.kubernetes.io/instance=gitea\n",
      "              app.kubernetes.io/managed-by=Helm\n",
      "              app.kubernetes.io/name=gitea\n",
      "              app.kubernetes.io/version=1.16.7\n",
      "              controller-revision-hash=gitea-85f8f8db8c\n",
      "              helm.sh/chart=gitea-5.0.7\n",
      "              statefulset.kubernetes.io/pod-name=gitea-0\n",
      "              version=1.16.7\n",
      "Annotations:  checksum/config: d1b2eacb8cf845f80df97f4bee245c38bb9009870c8846f3ccb483dc04aa4b7a\n",
      "              k8s.v1.cni.cncf.io/network-status:\n",
      "                [{\n",
      "                    \"name\": \"openshift-sdn\",\n",
      "                    \"interface\": \"eth0\",\n",
      "                    \"ips\": [\n",
      "                        \"10.217.0.97\"\n",
      "                    ],\n",
      "                    \"default\": true,\n",
      "                    \"dns\": {}\n",
      "                }]\n",
      "              k8s.v1.cni.cncf.io/networks-status:\n",
      "                [{\n",
      "                    \"name\": \"openshift-sdn\",\n",
      "                    \"interface\": \"eth0\",\n",
      "                    \"ips\": [\n",
      "                        \"10.217.0.97\"\n",
      "                    ],\n",
      "                    \"default\": true,\n",
      "                    \"dns\": {}\n",
      "                }]\n",
      "              openshift.io/scc: anyuid\n",
      "Status:       Pending\n",
      "IP:           10.217.0.97\n",
      "IPs:\n",
      "  IP:           10.217.0.97\n",
      "Controlled By:  StatefulSet/gitea\n",
      "Init Containers:\n",
      "  init-directories:\n",
      "    Container ID:  cri-o://ab349b691d640d8ca59cd8633c57dfb064481c6aa970cc8c701871157f0754a5\n",
      "    Image:         gitea/gitea:1.16.7\n",
      "    Image ID:      docker.io/gitea/gitea@sha256:b508d16e8685e84a38eb8c21253515e558af92ff5f43f3c20e2723c8e77824dc\n",
      "    Port:          <none>\n",
      "    Host Port:     <none>\n",
      "    Command:\n",
      "      /usr/sbin/init_directory_structure.sh\n",
      "    State:          Terminated\n",
      "      Reason:       Completed\n",
      "      Exit Code:    0\n",
      "      Started:      Thu, 05 May 2022 10:41:24 +0200\n",
      "      Finished:     Thu, 05 May 2022 10:41:24 +0200\n",
      "    Ready:          True\n",
      "    Restart Count:  0\n",
      "    Environment:\n",
      "      GITEA_APP_INI:   /data/gitea/conf/app.ini\n",
      "      GITEA_CUSTOM:    /data/gitea\n",
      "      GITEA_WORK_DIR:  /data\n",
      "      GITEA_TEMP:      /tmp/gitea\n",
      "    Mounts:\n",
      "      /data from data (rw)\n",
      "      /tmp from temp (rw)\n",
      "      /usr/sbin from init (rw)\n",
      "      /var/run/secrets/kubernetes.io/serviceaccount from kube-api-access-5jj7b (ro)\n",
      "  init-app-ini:\n",
      "    Container ID:  cri-o://995abe8d2d4b5d1dc56b823340d4bdf5bd9315db1de3c94967a949755b9db47a\n",
      "    Image:         gitea/gitea:1.16.7\n",
      "    Image ID:      docker.io/gitea/gitea@sha256:b508d16e8685e84a38eb8c21253515e558af92ff5f43f3c20e2723c8e77824dc\n",
      "    Port:          <none>\n",
      "    Host Port:     <none>\n",
      "    Command:\n",
      "      /usr/sbin/config_environment.sh\n",
      "    State:          Terminated\n",
      "      Reason:       Completed\n",
      "      Exit Code:    0\n",
      "      Started:      Thu, 05 May 2022 10:41:27 +0200\n",
      "      Finished:     Thu, 05 May 2022 10:41:27 +0200\n",
      "    Ready:          True\n",
      "    Restart Count:  0\n",
      "    Environment:\n",
      "      GITEA_APP_INI:   /data/gitea/conf/app.ini\n",
      "      GITEA_CUSTOM:    /data/gitea\n",
      "      GITEA_WORK_DIR:  /data\n",
      "      GITEA_TEMP:      /tmp/gitea\n",
      "    Mounts:\n",
      "      /data from data (rw)\n",
      "      /env-to-ini-mounts/inlines/ from inline-config-sources (rw)\n",
      "      /tmp from temp (rw)\n",
      "      /usr/sbin from config (rw)\n",
      "      /var/run/secrets/kubernetes.io/serviceaccount from kube-api-access-5jj7b (ro)\n",
      "  configure-gitea:\n",
      "    Container ID:  cri-o://3e5b5a681d0fbea54b4cc91feee77f40aca0a496711b3c1a1c34afbc3b4ef326\n",
      "    Image:         gitea/gitea:1.16.7\n",
      "    Image ID:      docker.io/gitea/gitea@sha256:b508d16e8685e84a38eb8c21253515e558af92ff5f43f3c20e2723c8e77824dc\n",
      "    Port:          <none>\n",
      "    Host Port:     <none>\n",
      "    Command:\n",
      "      /usr/sbin/configure_gitea.sh\n",
      "    State:          Terminated\n",
      "      Reason:       Completed\n",
      "      Exit Code:    0\n",
      "      Started:      Thu, 05 May 2022 10:41:29 +0200\n",
      "      Finished:     Thu, 05 May 2022 10:41:31 +0200\n",
      "    Ready:          True\n",
      "    Restart Count:  0\n",
      "    Environment:\n",
      "      GITEA_APP_INI:         /data/gitea/conf/app.ini\n",
      "      GITEA_CUSTOM:          /data/gitea\n",
      "      GITEA_WORK_DIR:        /data\n",
      "      GITEA_TEMP:            /tmp/gitea\n",
      "      GITEA_ADMIN_USERNAME:  gitea_admin\n",
      "      GITEA_ADMIN_PASSWORD:  r8sA8CPHD9!bt6d\n",
      "    Mounts:\n",
      "      /data from data (rw)\n",
      "      /tmp from temp (rw)\n",
      "      /usr/sbin from init (rw)\n",
      "      /var/run/secrets/kubernetes.io/serviceaccount from kube-api-access-5jj7b (ro)\n",
      "Containers:\n",
      "  gitea:\n",
      "    Container ID:   \n",
      "    Image:          gitea/gitea:1.16.7\n",
      "    Image ID:       \n",
      "    Ports:          22/TCP, 3000/TCP\n",
      "    Host Ports:     0/TCP, 0/TCP\n",
      "    State:          Waiting\n",
      "      Reason:       PodInitializing\n",
      "    Ready:          False\n",
      "    Restart Count:  0\n",
      "    Liveness:       tcp-socket :http delay=200s timeout=1s period=10s #success=1 #failure=10\n",
      "    Readiness:      tcp-socket :http delay=5s timeout=1s period=10s #success=1 #failure=3\n",
      "    Environment:\n",
      "      SSH_LISTEN_PORT:  22\n",
      "      SSH_PORT:         22\n",
      "      GITEA_APP_INI:    /data/gitea/conf/app.ini\n",
      "      GITEA_CUSTOM:     /data/gitea\n",
      "      GITEA_WORK_DIR:   /data\n",
      "      GITEA_TEMP:       /tmp/gitea\n",
      "      TMPDIR:           /tmp/gitea\n",
      "    Mounts:\n",
      "      /data from data (rw)\n",
      "      /tmp from temp (rw)\n",
      "      /var/run/secrets/kubernetes.io/serviceaccount from kube-api-access-5jj7b (ro)\n",
      "Conditions:\n",
      "  Type              Status\n",
      "  Initialized       True \n",
      "  Ready             False \n",
      "  ContainersReady   False \n",
      "  PodScheduled      True \n",
      "Volumes:\n",
      "  data:\n",
      "    Type:       PersistentVolumeClaim (a reference to a PersistentVolumeClaim in the same namespace)\n",
      "    ClaimName:  data-gitea-0\n",
      "    ReadOnly:   false\n",
      "  init:\n",
      "    Type:        Secret (a volume populated by a Secret)\n",
      "    SecretName:  gitea-init\n",
      "    Optional:    false\n",
      "  config:\n",
      "    Type:        Secret (a volume populated by a Secret)\n",
      "    SecretName:  gitea\n",
      "    Optional:    false\n",
      "  inline-config-sources:\n",
      "    Type:        Secret (a volume populated by a Secret)\n",
      "    SecretName:  gitea-inline-config\n",
      "    Optional:    false\n",
      "  temp:\n",
      "    Type:       EmptyDir (a temporary directory that shares a pod's lifetime)\n",
      "    Medium:     \n",
      "    SizeLimit:  <unset>\n",
      "  kube-api-access-5jj7b:\n",
      "    Type:                    Projected (a volume that contains injected data from multiple sources)\n",
      "    TokenExpirationSeconds:  3607\n",
      "    ConfigMapName:           kube-root-ca.crt\n",
      "    ConfigMapOptional:       <nil>\n",
      "    DownwardAPI:             true\n",
      "    ConfigMapName:           openshift-service-ca.crt\n",
      "    ConfigMapOptional:       <nil>\n",
      "QoS Class:                   BestEffort\n",
      "Node-Selectors:              <none>\n",
      "Tolerations:                 node.kubernetes.io/not-ready:NoExecute op=Exists for 300s\n",
      "                             node.kubernetes.io/unreachable:NoExecute op=Exists for 300s\n",
      "Events:\n",
      "  Type    Reason          Age   From               Message\n",
      "  ----    ------          ----  ----               -------\n",
      "  Normal  Scheduled       14s   default-scheduler  Successfully assigned gitea/gitea-0 to crc-gh9wd-master-0\n",
      "  Normal  AddedInterface  12s   multus             Add eth0 [10.217.0.97/23] from openshift-sdn\n",
      "  Normal  Pulling         12s   kubelet            Pulling image \"gitea/gitea:1.16.7\"\n",
      "  Normal  Pulling         9s    kubelet            Pulling image \"gitea/gitea:1.16.7\"\n",
      "  Normal  Pulled          9s    kubelet            Successfully pulled image \"gitea/gitea:1.16.7\" in 2.640206467s\n",
      "  Normal  Created         9s    kubelet            Created container init-directories\n",
      "  Normal  Started         9s    kubelet            Started container init-directories\n",
      "  Normal  Pulled          7s    kubelet            Successfully pulled image \"gitea/gitea:1.16.7\" in 2.311187614s\n",
      "  Normal  Pulling         6s    kubelet            Pulling image \"gitea/gitea:1.16.7\"\n",
      "  Normal  Started         6s    kubelet            Started container init-app-ini\n",
      "  Normal  Created         6s    kubelet            Created container init-app-ini\n",
      "  Normal  Pulled          4s    kubelet            Successfully pulled image \"gitea/gitea:1.16.7\" in 2.262505145s\n",
      "  Normal  Created         4s    kubelet            Created container configure-gitea\n",
      "  Normal  Started         3s    kubelet            Started container configure-gitea\n",
      "  Normal  Pulling         2s    kubelet            Pulling image \"gitea/gitea:1.16.7\"\n",
      "  Normal  Pulled          0s    kubelet            Successfully pulled image \"gitea/gitea:1.16.7\" in 2.207102785s\n"
     ]
    }
   ],
   "source": [
    "oc describe pod/gitea-0 "
   ]
  },
  {
   "cell_type": "code",
   "execution_count": 80,
   "id": "b46790b4-06e1-4176-a190-4eed57003610",
   "metadata": {},
   "outputs": [
    {
     "name": "stdout",
     "output_type": "stream",
     "text": [
      "Name:           gitea-memcached-66f5c995fd\n",
      "Namespace:      gitea\n",
      "Selector:       app.kubernetes.io/instance=gitea,app.kubernetes.io/name=memcached,pod-template-hash=66f5c995fd\n",
      "Labels:         app.kubernetes.io/instance=gitea\n",
      "                app.kubernetes.io/managed-by=Helm\n",
      "                app.kubernetes.io/name=memcached\n",
      "                helm.sh/chart=memcached-5.9.0\n",
      "                pod-template-hash=66f5c995fd\n",
      "Annotations:    deployment.kubernetes.io/desired-replicas: 1\n",
      "                deployment.kubernetes.io/max-replicas: 2\n",
      "                deployment.kubernetes.io/revision: 1\n",
      "                meta.helm.sh/release-name: gitea\n",
      "                meta.helm.sh/release-namespace: gitea\n",
      "Controlled By:  Deployment/gitea-memcached\n",
      "Replicas:       1 current / 1 desired\n",
      "Pods Status:    1 Running / 0 Waiting / 0 Succeeded / 0 Failed\n",
      "Pod Template:\n",
      "  Labels:           app.kubernetes.io/instance=gitea\n",
      "                    app.kubernetes.io/managed-by=Helm\n",
      "                    app.kubernetes.io/name=memcached\n",
      "                    helm.sh/chart=memcached-5.9.0\n",
      "                    pod-template-hash=66f5c995fd\n",
      "  Service Account:  gitea-memcached\n",
      "  Containers:\n",
      "   memcached:\n",
      "    Image:      docker.io/bitnami/memcached:1.6.9-debian-10-r114\n",
      "    Port:       11211/TCP\n",
      "    Host Port:  0/TCP\n",
      "    Args:\n",
      "      /run.sh\n",
      "    Requests:\n",
      "      cpu:      250m\n",
      "      memory:   256Mi\n",
      "    Liveness:   tcp-socket :memcache delay=30s timeout=5s period=10s #success=1 #failure=6\n",
      "    Readiness:  tcp-socket :memcache delay=5s timeout=3s period=5s #success=1 #failure=3\n",
      "    Environment:\n",
      "      BITNAMI_DEBUG:  false\n",
      "    Mounts:\n",
      "      /tmp from tmp (rw)\n",
      "  Volumes:\n",
      "   tmp:\n",
      "    Type:       EmptyDir (a temporary directory that shares a pod's lifetime)\n",
      "    Medium:     \n",
      "    SizeLimit:  <unset>\n",
      "Events:\n",
      "  Type    Reason            Age   From                   Message\n",
      "  ----    ------            ----  ----                   -------\n",
      "  Normal  SuccessfulCreate  42s   replicaset-controller  Created pod: gitea-memcached-66f5c995fd-dv48b\n"
     ]
    }
   ],
   "source": [
    "oc describe replicaset.apps/gitea-memcached-66f5c995fd"
   ]
  },
  {
   "cell_type": "code",
   "execution_count": 81,
   "id": "b039f378-29b5-47de-9414-e52365d78708",
   "metadata": {},
   "outputs": [
    {
     "name": "stdout",
     "output_type": "stream",
     "text": [
      "NAME              SECRETS   AGE\n",
      "builder           2         64m\n",
      "default           2         64m\n",
      "deployer          2         64m\n",
      "gitea-memcached   2         47s\n"
     ]
    }
   ],
   "source": [
    "oc get sa"
   ]
  },
  {
   "cell_type": "code",
   "execution_count": 82,
   "id": "42739a0a-176e-4fd7-b5ba-2c1781f34d1f",
   "metadata": {},
   "outputs": [
    {
     "name": "stdout",
     "output_type": "stream",
     "text": [
      "NAME                        TYPE        CLUSTER-IP     EXTERNAL-IP   PORT(S)     AGE\n",
      "gitea-http                  ClusterIP   None           <none>        3000/TCP    48s\n",
      "gitea-memcached             ClusterIP   10.217.5.147   <none>        11211/TCP   48s\n",
      "gitea-postgresql            ClusterIP   10.217.4.50    <none>        5432/TCP    48s\n",
      "gitea-postgresql-headless   ClusterIP   None           <none>        5432/TCP    48s\n",
      "gitea-ssh                   ClusterIP   None           <none>        22/TCP      48s\n"
     ]
    }
   ],
   "source": [
    "oc get svc"
   ]
  },
  {
   "cell_type": "code",
   "execution_count": 83,
   "id": "67a84876-2e6c-4e4b-bd27-d76ea4b956e0",
   "metadata": {},
   "outputs": [
    {
     "name": "stdout",
     "output_type": "stream",
     "text": [
      "NAME                      STATUS   VOLUME                                     CAPACITY   ACCESS MODES   STORAGECLASS   AGE\n",
      "data-gitea-0              Bound    pvc-d39d9410-d4de-4eac-b78f-e4434b073d2b   10Gi       RWO            nfs-client     64m\n",
      "data-gitea-postgresql-0   Bound    pvc-f4549e84-1d69-4cb6-8141-21e02415dd49   10Gi       RWO            nfs-client     64m\n"
     ]
    }
   ],
   "source": [
    "oc get pvc"
   ]
  },
  {
   "cell_type": "code",
   "execution_count": 84,
   "id": "de34fb3c-0373-4c5e-9a29-e48feab4761e",
   "metadata": {},
   "outputs": [
    {
     "name": "stdout",
     "output_type": "stream",
     "text": [
      "Error from server (AlreadyExists): routes.route.openshift.io \"gitea-http\" already exists\n"
     ]
    },
    {
     "ename": "",
     "evalue": "1",
     "output_type": "error",
     "traceback": []
    }
   ],
   "source": [
    "oc expose service gitea-http "
   ]
  },
  {
   "cell_type": "code",
   "execution_count": 85,
   "id": "5d8005b1-accc-4e99-a9e0-0cc89df31058",
   "metadata": {},
   "outputs": [
    {
     "name": "stdout",
     "output_type": "stream",
     "text": [
      "NAME         HOST/PORT                           PATH   SERVICES     PORT   TERMINATION   WILDCARD\n",
      "gitea-http   gitea-http-gitea.apps-crc.testing          gitea-http   http                 None\n"
     ]
    }
   ],
   "source": [
    "oc get route"
   ]
  },
  {
   "cell_type": "code",
   "execution_count": 86,
   "id": "ca84f8d6-5703-410b-9e84-73a32fef4835",
   "metadata": {},
   "outputs": [
    {
     "name": "stdout",
     "output_type": "stream",
     "text": [
      "NAME                                   READY   STATUS    RESTARTS   AGE\n",
      "pod/gitea-0                            1/1     Running   0          68s\n",
      "pod/gitea-memcached-66f5c995fd-dv48b   1/1     Running   0          68s\n",
      "pod/gitea-postgresql-0                 1/1     Running   0          68s\n",
      "\n",
      "NAME                                TYPE        CLUSTER-IP     EXTERNAL-IP   PORT(S)     AGE\n",
      "service/gitea-http                  ClusterIP   None           <none>        3000/TCP    68s\n",
      "service/gitea-memcached             ClusterIP   10.217.5.147   <none>        11211/TCP   68s\n",
      "service/gitea-postgresql            ClusterIP   10.217.4.50    <none>        5432/TCP    68s\n",
      "service/gitea-postgresql-headless   ClusterIP   None           <none>        5432/TCP    68s\n",
      "service/gitea-ssh                   ClusterIP   None           <none>        22/TCP      68s\n",
      "\n",
      "NAME                              READY   UP-TO-DATE   AVAILABLE   AGE\n",
      "deployment.apps/gitea-memcached   1/1     1            1           68s\n",
      "\n",
      "NAME                                         DESIRED   CURRENT   READY   AGE\n",
      "replicaset.apps/gitea-memcached-66f5c995fd   1         1         1       68s\n",
      "\n",
      "NAME                                READY   AGE\n",
      "statefulset.apps/gitea              1/1     68s\n",
      "statefulset.apps/gitea-postgresql   1/1     68s\n",
      "\n",
      "NAME                                  HOST/PORT                           PATH   SERVICES     PORT   TERMINATION   WILDCARD\n",
      "route.route.openshift.io/gitea-http   gitea-http-gitea.apps-crc.testing          gitea-http   http                 None\n"
     ]
    }
   ],
   "source": [
    "oc get all"
   ]
  },
  {
   "cell_type": "code",
   "execution_count": 88,
   "id": "45784d5a-827f-458f-ad6e-8166a0dc6657",
   "metadata": {},
   "outputs": [
    {
     "name": "stdout",
     "output_type": "stream",
     "text": [
      "Defaulted container \"gitea\" out of: gitea, init-directories (init), init-app-ini (init), configure-gitea (init)\n",
      "NAME:\n",
      "   Gitea - A painless self-hosted Git service\n",
      "\n",
      "USAGE:\n",
      "   gitea [global options] command [command options] [arguments...]\n",
      "\n",
      "VERSION:\n",
      "   1.16.7 built with GNU Make 4.3, go1.18.1 : bindata, timetzdata, sqlite, sqlite_unlock_notify\n",
      "\n",
      "DESCRIPTION:\n",
      "   By default, gitea will start serving using the webserver with no\n",
      "arguments - which can alternatively be run by running the subcommand web.\n",
      "\n",
      "COMMANDS:\n",
      "   web              Start Gitea web server\n",
      "   serv             This command should only be called by SSH shell\n",
      "   hook             Delegate commands to corresponding Git hooks\n",
      "   dump             Dump Gitea files and database\n",
      "   cert             Generate self-signed certificate\n",
      "   admin            Command line interface to perform common administrative operations\n",
      "   generate         Command line interface for running generators\n",
      "   migrate          Migrate the database\n",
      "   keys             This command queries the Gitea database to get the authorized command for a given ssh key fingerprint\n",
      "   convert          Convert the database\n",
      "   doctor           Diagnose problems\n",
      "   manager          Manage the running gitea process\n",
      "   embedded         Extract embedded resources\n",
      "   migrate-storage  Migrate the storage\n",
      "   docs             Output CLI documentation\n",
      "   dump-repo        Dump the repository from git/github/gitea/gitlab\n",
      "   restore-repo     Restore the repository from disk\n",
      "   help, h          Shows a list of commands or help for one command\n",
      "\n",
      "GLOBAL OPTIONS:\n",
      "   --port value, -p value         Temporary port number to prevent conflict (default: \"3000\")\n",
      "   --install-port value           Temporary port number to run the install page on to prevent conflict (default: \"3000\")\n",
      "   --pid value, -P value          Custom pid file path (default: \"/run/gitea.pid\")\n",
      "   --quiet, -q                    Only display Fatal logging errors until logging is set-up\n",
      "   --verbose                      Set initial logging to TRACE level until logging is properly set-up\n",
      "   --custom-path value, -C value  Custom path file path (default: \"/data/gitea\")\n",
      "   --config value, -c value       Custom configuration file path (default: \"/data/gitea/conf/app.ini\")\n",
      "   --version, -v                  print the version\n",
      "   --work-path value, -w value    Set the gitea working path (default: \"/data\")\n",
      "   --help, -h                     show help\n",
      "\n",
      "DEFAULT CONFIGURATION:\n",
      "     CustomPath:  /data/gitea (GITEA_CUSTOM)\n",
      "     CustomConf:  /data/gitea/conf/app.ini\n",
      "     AppPath:     /usr/local/bin/gitea\n",
      "     AppWorkPath: /data\n",
      "\n"
     ]
    }
   ],
   "source": [
    "oc exec pod/gitea-0  -- gitea --help"
   ]
  },
  {
   "cell_type": "code",
   "execution_count": 89,
   "id": "06cd7fff-8f19-42aa-bdb5-a9e864fd7660",
   "metadata": {},
   "outputs": [
    {
     "name": "stdout",
     "output_type": "stream",
     "text": [
      "Defaulted container \"gitea\" out of: gitea, init-directories (init), init-app-ini (init), configure-gitea (init)\n",
      "NAME:\n",
      "   Gitea admin - Command line interface to perform common administrative operations\n",
      "\n",
      "USAGE:\n",
      "   Gitea admin command [command options] [arguments...]\n",
      "\n",
      "COMMANDS:\n",
      "   user                Modify users\n",
      "   repo-sync-releases  Synchronize repository releases with tags\n",
      "   regenerate          Regenerate specific files\n",
      "   auth                Modify external auth providers\n",
      "   sendmail            Send a message to all users\n",
      "\n",
      "OPTIONS:\n",
      "   --custom-path value, -C value  Custom path file path (default: \"/data/gitea\")\n",
      "   --config value, -c value       Custom configuration file path (default: \"/data/gitea/conf/app.ini\")\n",
      "   --version, -v                  print the version\n",
      "   --work-path value, -w value    Set the gitea working path (default: \"/data\")\n",
      "   --help, -h                     show help\n",
      "   \n",
      "\n",
      "DEFAULT CONFIGURATION:\n",
      "     CustomPath:  /data/gitea (GITEA_CUSTOM)\n",
      "     CustomConf:  /data/gitea/conf/app.ini\n",
      "     AppPath:     /usr/local/bin/gitea\n",
      "     AppWorkPath: /data\n",
      "\n"
     ]
    }
   ],
   "source": [
    "oc exec pod/gitea-0  -- gitea admin --help"
   ]
  },
  {
   "cell_type": "code",
   "execution_count": 91,
   "id": "fee9031b-decc-4f11-a6c0-385e86e6b2ba",
   "metadata": {},
   "outputs": [
    {
     "name": "stdout",
     "output_type": "stream",
     "text": [
      "Defaulted container \"gitea\" out of: gitea, init-directories (init), init-app-ini (init), configure-gitea (init)\n",
      "NAME:\n",
      "   Gitea admin user - Modify users\n",
      "\n",
      "USAGE:\n",
      "   Gitea admin user command [command options] [arguments...]\n",
      "\n",
      "COMMANDS:\n",
      "   create           Create a new user in database\n",
      "   list             List users\n",
      "   change-password  Change a user's password\n",
      "   delete           Delete specific user by id, name or email\n",
      "\n",
      "OPTIONS:\n",
      "   --custom-path value, -C value  Custom path file path (default: \"/data/gitea\")\n",
      "   --config value, -c value       Custom configuration file path (default: \"/data/gitea/conf/app.ini\")\n",
      "   --version, -v                  print the version\n",
      "   --work-path value, -w value    Set the gitea working path (default: \"/data\")\n",
      "   --help, -h                     show help\n",
      "   \n",
      "\n",
      "DEFAULT CONFIGURATION:\n",
      "     CustomPath:  /data/gitea (GITEA_CUSTOM)\n",
      "     CustomConf:  /data/gitea/conf/app.ini\n",
      "     AppPath:     /usr/local/bin/gitea\n",
      "     AppWorkPath: /data\n",
      "\n"
     ]
    }
   ],
   "source": [
    "oc exec pod/gitea-0  -- gitea admin user --help"
   ]
  },
  {
   "cell_type": "code",
   "execution_count": 93,
   "id": "e999f638-cd26-4ab3-b3aa-d340bb38c021",
   "metadata": {},
   "outputs": [
    {
     "name": "stdout",
     "output_type": "stream",
     "text": [
      "Defaulted container \"gitea\" out of: gitea, init-directories (init), init-app-ini (init), configure-gitea (init)\n",
      "\u001b[36m2022/05/05 08:45:09 \u001b[0m\u001b[32m...s/setting/setting.go:965:\u001b[32mloadFromConf()\u001b[0m \u001b[1;41m[F]\u001b[0m Gitea is not supposed to be run as root. Sorry. If you need to use privileged TCP ports please instead use setcap and the `cap_net_bind_service` permission\n",
      "command terminated with exit code 1\n"
     ]
    },
    {
     "ename": "",
     "evalue": "1",
     "output_type": "error",
     "traceback": []
    }
   ],
   "source": [
    "oc exec gitea-0  -- gitea admin user list"
   ]
  },
  {
   "cell_type": "code",
   "execution_count": null,
   "id": "e95e8e5d-d57e-4727-acf2-2053db894848",
   "metadata": {},
   "outputs": [],
   "source": []
  }
 ],
 "metadata": {
  "kernelspec": {
   "display_name": "Bash",
   "language": "bash",
   "name": "bash"
  },
  "language_info": {
   "codemirror_mode": "shell",
   "file_extension": ".sh",
   "mimetype": "text/x-sh",
   "name": "bash"
  }
 },
 "nbformat": 4,
 "nbformat_minor": 5
}
