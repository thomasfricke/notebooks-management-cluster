{
 "cells": [
  {
   "cell_type": "markdown",
   "id": "1371c35b-280d-4126-8cc5-5940871aa9ca",
   "metadata": {},
   "source": [
    "### Deploy a local NFS Server\n",
    "\n",
    "### Deploy a Storage Provider\n",
    "\n",
    "https://github.com/kubernetes-sigs/nfs-subdir-external-provisioner"
   ]
  },
  {
   "cell_type": "code",
   "execution_count": null,
   "id": "ca98ccdd-0fe7-46c9-8f69-a8770c99d235",
   "metadata": {},
   "outputs": [],
   "source": [
    "mkdir -p nfs\n",
    "cd nfs"
   ]
  },
  {
   "cell_type": "code",
   "execution_count": 8,
   "id": "14b65edf-ea9c-435a-b44c-fb70f3899f65",
   "metadata": {},
   "outputs": [],
   "source": [
    "mkdir -p files"
   ]
  },
  {
   "cell_type": "code",
   "execution_count": 9,
   "id": "ab4d0377-b2b8-4bd6-9db6-bdd1233b7bb5",
   "metadata": {},
   "outputs": [
    {
     "name": "stdout",
     "output_type": "stream",
     "text": [
      "rm: das Entfernen von 'files/*' ist nicht möglich: Datei oder Verzeichnis nicht gefunden\n"
     ]
    },
    {
     "ename": "",
     "evalue": "1",
     "output_type": "error",
     "traceback": []
    }
   ],
   "source": [
    "sudo rm -r files/*"
   ]
  },
  {
   "cell_type": "code",
   "execution_count": 10,
   "id": "7b21ef88-367c-4e75-ba29-eb5e034cc22e",
   "metadata": {},
   "outputs": [],
   "source": [
    "ls files"
   ]
  },
  {
   "cell_type": "code",
   "execution_count": 2,
   "id": "d41197ed-4486-41a6-bbbf-fcf6749628e1",
   "metadata": {},
   "outputs": [
    {
     "name": "stdout",
     "output_type": "stream",
     "text": [
      "2e5bd80f3ec6ab0c608c0d9af88ba514e3e9d3ff2cdc0a790834e73796e37bdb\n"
     ]
    }
   ],
   "source": [
    "docker run -d --rm --name nfs \\\n",
    "           --privileged \\\n",
    "           -v $(pwd)/files:/nfsshare \\\n",
    "           -e SHARED_DIRECTORY=/nfsshare \\\n",
    "           --name nfs \\\n",
    "           -p 2049:2049 \\\n",
    "           itsthenetwork/nfs-server-alpine:latest"
   ]
  },
  {
   "cell_type": "code",
   "execution_count": 12,
   "id": "acb8dec9-07d4-4676-a65d-d076b510aef3",
   "metadata": {},
   "outputs": [
    {
     "name": "stdout",
     "output_type": "stream",
     "text": [
      "1: lo: <LOOPBACK,UP,LOWER_UP> mtu 65536 qdisc noqueue state UNKNOWN group default qlen 1000\n",
      "    link/loopback 00:00:00:00:00:00 brd 00:00:00:00:00:00\n",
      "    inet 127.0.0.1/8 scope host lo\n",
      "       valid_lft forever preferred_lft forever\n",
      "136: eth0@if137: <BROADCAST,MULTICAST,UP,LOWER_UP> mtu 1500 qdisc noqueue state UP group default \n",
      "    link/ether 02:42:ac:1a:00:02 brd ff:ff:ff:ff:ff:ff link-netnsid 0\n",
      "    inet 172.26.0.2/16 brd 172.26.255.255 scope global eth0\n",
      "       valid_lft forever preferred_lft forever\n"
     ]
    }
   ],
   "source": [
    "docker exec nfs ip a"
   ]
  },
  {
   "cell_type": "code",
   "execution_count": 4,
   "id": "691cf46f-aa1a-462b-889f-70ea43c584f5",
   "metadata": {},
   "outputs": [],
   "source": [
    "sudo modprobe nfsd"
   ]
  },
  {
   "cell_type": "code",
   "execution_count": 19,
   "id": "b95e3671-ff2b-4da0-b9e2-11b783188b25",
   "metadata": {},
   "outputs": [
    {
     "name": "stdout",
     "output_type": "stream",
     "text": [
      "CONTAINER ID   IMAGE                                    COMMAND              CREATED         STATUS         PORTS                                       NAMES\n",
      "b5faf90138bb   itsthenetwork/nfs-server-alpine:latest   \"/usr/bin/nfsd.sh\"   7 seconds ago   Up 6 seconds   0.0.0.0:2049->2049/tcp, :::2049->2049/tcp   nfs\n",
      "f55445b90421   openvpn:latest                           \"/run.sh\"            2 weeks ago     Up 2 weeks                                                 openvpn-denmark\n"
     ]
    }
   ],
   "source": [
    "docker ps"
   ]
  },
  {
   "cell_type": "code",
   "execution_count": 20,
   "id": "c7c86a00-a3d1-497a-8924-e2c4247f3fed",
   "metadata": {},
   "outputs": [
    {
     "name": "stdout",
     "output_type": "stream",
     "text": [
      "1: lo: <LOOPBACK,UP,LOWER_UP> mtu 65536 qdisc noqueue state UNKNOWN group default qlen 1000\n",
      "    link/loopback 00:00:00:00:00:00 brd 00:00:00:00:00:00\n",
      "    inet 127.0.0.1/8 scope host lo\n",
      "       valid_lft forever preferred_lft forever\n",
      "123: eth0@if124: <BROADCAST,MULTICAST,UP,LOWER_UP> mtu 1500 qdisc noqueue state UP group default \n",
      "    link/ether 02:42:ac:1a:00:03 brd ff:ff:ff:ff:ff:ff link-netnsid 0\n",
      "    inet 172.26.0.3/16 brd 172.26.255.255 scope global eth0\n",
      "       valid_lft forever preferred_lft forever\n"
     ]
    }
   ],
   "source": [
    "docker exec nfs ip a"
   ]
  },
  {
   "cell_type": "code",
   "execution_count": 21,
   "id": "12f09a5b-cc18-48d1-90b8-db76f041a269",
   "metadata": {},
   "outputs": [
    {
     "name": "stdout",
     "output_type": "stream",
     "text": [
      "Writing SHARED_DIRECTORY to /etc/exports file\n",
      "The PERMITTED environment variable is unset or null, defaulting to '*'.\n",
      "This means any client can mount.\n",
      "The READ_ONLY environment variable is unset or null, defaulting to 'rw'.\n",
      "Clients have read/write access.\n",
      "The SYNC environment variable is unset or null, defaulting to 'async' mode.\n",
      "Writes will not be immediately written to disk.\n",
      "Displaying /etc/exports contents:\n",
      "/nfsshare *(rw,fsid=0,async,no_subtree_check,no_auth_nlm,insecure,no_root_squash)\n",
      "\n",
      "Starting rpcbind...\n",
      "Displaying rpcbind status...\n",
      "   program version netid     address                service    owner\n",
      "    100000    4    tcp6      ::.0.111               -          superuser\n",
      "    100000    3    tcp6      ::.0.111               -          superuser\n",
      "    100000    4    udp6      ::.0.111               -          superuser\n",
      "    100000    3    udp6      ::.0.111               -          superuser\n",
      "    100000    4    tcp       0.0.0.0.0.111          -          superuser\n",
      "    100000    3    tcp       0.0.0.0.0.111          -          superuser\n",
      "    100000    2    tcp       0.0.0.0.0.111          -          superuser\n",
      "    100000    4    udp       0.0.0.0.0.111          -          superuser\n",
      "    100000    3    udp       0.0.0.0.0.111          -          superuser\n",
      "    100000    2    udp       0.0.0.0.0.111          -          superuser\n",
      "    100000    4    local     /var/run/rpcbind.sock  -          superuser\n",
      "    100000    3    local     /var/run/rpcbind.sock  -          superuser\n",
      "Starting NFS in the background...\n",
      "rpc.nfsd: knfsd is currently down\n",
      "rpc.nfsd: Writing version string to kernel: -2 -3 +4 +4.1 +4.2\n",
      "rpc.nfsd: Created AF_INET TCP socket.\n",
      "rpc.nfsd: Created AF_INET6 TCP socket.\n",
      "Exporting File System...\n",
      "exporting *:/nfsshare\n",
      "/nfsshare     \t<world>\n",
      "Starting Mountd in the background...These\n",
      "Startup successful.\n"
     ]
    }
   ],
   "source": [
    "docker logs nfs"
   ]
  },
  {
   "cell_type": "code",
   "execution_count": 8,
   "id": "4736fda9-1c72-46c1-bd2a-5797da5719d7",
   "metadata": {
    "tags": []
   },
   "outputs": [],
   "source": [
    "mkdir -p /tmp/docker_nfs"
   ]
  },
  {
   "cell_type": "code",
   "execution_count": 13,
   "id": "768b09fa-3542-4e70-8eed-63a59e551112",
   "metadata": {},
   "outputs": [],
   "source": [
    "export PROJECT=nfs-provisioner\n",
    "export NFS_SERVER=172.26.0.2\n",
    "export NFS_SHARE=/"
   ]
  },
  {
   "cell_type": "code",
   "execution_count": 23,
   "id": "a09c5ed2-0044-41fa-8f99-232d5a575d8f",
   "metadata": {},
   "outputs": [],
   "source": [
    "mkdir -p /tmp/docker_nfs"
   ]
  },
  {
   "cell_type": "code",
   "execution_count": 24,
   "id": "0738180d-91dd-4783-b565-589d029b92e7",
   "metadata": {},
   "outputs": [],
   "source": [
    "sudo mount $NFS_SERVER:$NFS_SHARE /tmp/docker_nfs"
   ]
  },
  {
   "cell_type": "code",
   "execution_count": 25,
   "id": "a714e4c5-4685-486e-83ef-39a176676a87",
   "metadata": {},
   "outputs": [
    {
     "name": "stdout",
     "output_type": "stream",
     "text": [
      "Writing SHARED_DIRECTORY to /etc/exports file\n",
      "The PERMITTED environment variable is unset or null, defaulting to '*'.\n",
      "This means any client can mount.\n",
      "The READ_ONLY environment variable is unset or null, defaulting to 'rw'.\n",
      "Clients have read/write access.\n",
      "The SYNC environment variable is unset or null, defaulting to 'async' mode.\n",
      "Writes will not be immediately written to disk.\n",
      "Displaying /etc/exports contents:\n",
      "/nfsshare *(rw,fsid=0,async,no_subtree_check,no_auth_nlm,insecure,no_root_squash)\n",
      "\n",
      "Starting rpcbind...\n",
      "Displaying rpcbind status...\n",
      "   program version netid     address                service    owner\n",
      "    100000    4    tcp6      ::.0.111               -          superuser\n",
      "    100000    3    tcp6      ::.0.111               -          superuser\n",
      "    100000    4    udp6      ::.0.111               -          superuser\n",
      "    100000    3    udp6      ::.0.111               -          superuser\n",
      "    100000    4    tcp       0.0.0.0.0.111          -          superuser\n",
      "    100000    3    tcp       0.0.0.0.0.111          -          superuser\n",
      "    100000    2    tcp       0.0.0.0.0.111          -          superuser\n",
      "    100000    4    udp       0.0.0.0.0.111          -          superuser\n",
      "    100000    3    udp       0.0.0.0.0.111          -          superuser\n",
      "    100000    2    udp       0.0.0.0.0.111          -          superuser\n",
      "    100000    4    local     /var/run/rpcbind.sock  -          superuser\n",
      "    100000    3    local     /var/run/rpcbind.sock  -          superuser\n",
      "Starting NFS in the background...\n",
      "rpc.nfsd: knfsd is currently down\n",
      "rpc.nfsd: Writing version string to kernel: -2 -3 +4 +4.1 +4.2\n",
      "rpc.nfsd: Created AF_INET TCP socket.\n",
      "rpc.nfsd: Created AF_INET6 TCP socket.\n",
      "Exporting File System...\n",
      "exporting *:/nfsshare\n",
      "/nfsshare     \t<world>\n",
      "Starting Mountd in the background...These\n",
      "Startup successful.\n"
     ]
    }
   ],
   "source": [
    "docker logs nfs"
   ]
  },
  {
   "cell_type": "code",
   "execution_count": 26,
   "id": "d9f32ffe-4cde-4e31-b7c9-d895489a329b",
   "metadata": {},
   "outputs": [
    {
     "name": "stdout",
     "output_type": "stream",
     "text": [
      "Dateisystem             1K-Blöcke   Benutzt Verfügbar Verw% Eingehängt auf\n",
      "udev                     32568420         0  32568420    0% /dev\n",
      "tmpfs                     6525636     21540   6504096    1% /run\n",
      "/dev/mapper/system-root 102163384  21883848  75020276   23% /\n",
      "tmpfs                    32628160    473680  32154480    2% /dev/shm\n",
      "tmpfs                        5120         4      5116    1% /run/lock\n",
      "tmpfs                    32628160         0  32628160    0% /sys/fs/cgroup\n",
      "/dev/nvme0n1p1             499656    273620    199824   58% /boot\n",
      "/dev/mapper/system-var  308587328 263300532  29541772   90% /var\n",
      "/dev/mapper/system-home 515010816 457667512  31112520   94% /home\n",
      "/dev/nvme0n1p2             523248      5376    517872    2% /boot/efi\n",
      "tmpfs                     6525632        32   6525600    1% /run/user/1001\n",
      "172.26.0.3:/            515011584 457667584  31113216   94% /tmp/docker_nfs\n"
     ]
    }
   ],
   "source": [
    "df"
   ]
  },
  {
   "cell_type": "code",
   "execution_count": 13,
   "id": "896290a7-c0a2-4f88-957b-91f3d1a6738f",
   "metadata": {},
   "outputs": [],
   "source": [
    "sudo umount /tmp/docker_nfs"
   ]
  },
  {
   "cell_type": "markdown",
   "id": "0fb3cc45-8432-4546-99ee-9599d9eb767b",
   "metadata": {},
   "source": [
    "## OpenShift Part"
   ]
  },
  {
   "cell_type": "code",
   "execution_count": 14,
   "id": "dd25c8bc-7162-49dd-a07a-f938642e0258",
   "metadata": {},
   "outputs": [
    {
     "name": "stdout",
     "output_type": "stream",
     "text": [
      "Now using project \"nfs-provisioner\" on server \"https://api.crc.testing:6443\".\n",
      "\n",
      "You can add applications to this project with the 'new-app' command. For example, try:\n",
      "\n",
      "    oc new-app rails-postgresql-example\n",
      "\n",
      "to build a new example application in Ruby. Or use kubectl to deploy a simple Kubernetes application:\n",
      "\n",
      "    kubectl create deployment hello-node --image=k8s.gcr.io/e2e-test-images/agnhost:2.33 -- /agnhost serve-hostname\n",
      "\n"
     ]
    }
   ],
   "source": [
    "oc new-project $PROJECT"
   ]
  },
  {
   "cell_type": "code",
   "execution_count": 15,
   "id": "31f8c18e-74c9-4434-a856-343bfc126e91",
   "metadata": {},
   "outputs": [
    {
     "name": "stdout",
     "output_type": "stream",
     "text": [
      "clusterrole.rbac.authorization.k8s.io/system:openshift:scc:privileged added: \"nfs-subdir-external-provisioner\"\n"
     ]
    }
   ],
   "source": [
    "oc adm policy add-scc-to-user privileged system:serviceaccount:$PROJECT:nfs-subdir-external-provisioner"
   ]
  },
  {
   "cell_type": "code",
   "execution_count": 16,
   "id": "64072671-5cd9-4c47-8754-10d0c581a1d2",
   "metadata": {},
   "outputs": [
    {
     "name": "stdout",
     "output_type": "stream",
     "text": [
      "Error: repository name (nfs-subdir-external-provisioner) already exists, please specify a different name\n"
     ]
    },
    {
     "ename": "",
     "evalue": "1",
     "output_type": "error",
     "traceback": []
    }
   ],
   "source": [
    "helm repo add nfs-subdir-external-provisioner https://kubernetes-sigs.github.io/nfs-subdir-external-provisioner"
   ]
  },
  {
   "cell_type": "code",
   "execution_count": 17,
   "id": "4248cefd-3060-4fcc-a9f5-0227f7e13821",
   "metadata": {},
   "outputs": [
    {
     "name": "stdout",
     "output_type": "stream",
     "text": [
      "Release \"nfs-subdir-external-provisioner\" does not exist. Installing it now.\n",
      "NAME: nfs-subdir-external-provisioner\n",
      "LAST DEPLOYED: Sat Jun 11 20:28:43 2022\n",
      "NAMESPACE: nfs-provisioner\n",
      "STATUS: deployed\n",
      "REVISION: 1\n",
      "TEST SUITE: None\n"
     ]
    }
   ],
   "source": [
    "helm upgrade --install nfs-subdir-external-provisioner  \\\n",
    "    nfs-subdir-external-provisioner/nfs-subdir-external-provisioner \\\n",
    "    --set nfs.server=$NFS_SERVER \\\n",
    "    --set nfs.path=$NFS_SHARE"
   ]
  },
  {
   "cell_type": "code",
   "execution_count": 19,
   "id": "00f4b3ed-6965-44af-a596-e403be16488d",
   "metadata": {},
   "outputs": [
    {
     "name": "stdout",
     "output_type": "stream",
     "text": [
      "NAME                                                   READY   STATUS    RESTARTS   AGE\n",
      "pod/nfs-subdir-external-provisioner-85b959b6df-f68tp   1/1     Running   0          32s\n",
      "\n",
      "NAME                                              READY   UP-TO-DATE   AVAILABLE   AGE\n",
      "deployment.apps/nfs-subdir-external-provisioner   1/1     1            1           32s\n",
      "\n",
      "NAME                                                         DESIRED   CURRENT   READY   AGE\n",
      "replicaset.apps/nfs-subdir-external-provisioner-85b959b6df   1         1         1       32s\n"
     ]
    }
   ],
   "source": [
    "oc get all "
   ]
  },
  {
   "cell_type": "code",
   "execution_count": 18,
   "id": "c7585597-7122-4a6e-96e9-aec76a3784ba",
   "metadata": {},
   "outputs": [
    {
     "name": "stdout",
     "output_type": "stream",
     "text": [
      "LAST SEEN   TYPE     REASON              OBJECT                                                    MESSAGE\n",
      "7s          Normal   LeaderElection      endpoints/cluster.local-nfs-subdir-external-provisioner   nfs-subdir-external-provisioner-85b959b6df-bh4kt_fe52b798-177d-44ad-a9ea-b477609a0bda became leader\n",
      "10s         Normal   Scheduled           pod/nfs-subdir-external-provisioner-85b959b6df-bh4kt      Successfully assigned nfs-provisioner/nfs-subdir-external-provisioner-85b959b6df-bh4kt to crc-gh9wd-master-0\n",
      "8s          Normal   AddedInterface      pod/nfs-subdir-external-provisioner-85b959b6df-bh4kt      Add eth0 [10.217.0.150/23] from openshift-sdn\n",
      "8s          Normal   Pulled              pod/nfs-subdir-external-provisioner-85b959b6df-bh4kt      Container image \"k8s.gcr.io/sig-storage/nfs-subdir-external-provisioner:v4.0.2\" already present on machine\n",
      "8s          Normal   Created             pod/nfs-subdir-external-provisioner-85b959b6df-bh4kt      Created container nfs-subdir-external-provisioner\n",
      "8s          Normal   Started             pod/nfs-subdir-external-provisioner-85b959b6df-bh4kt      Started container nfs-subdir-external-provisioner\n",
      "10s         Normal   SuccessfulCreate    replicaset/nfs-subdir-external-provisioner-85b959b6df     Created pod: nfs-subdir-external-provisioner-85b959b6df-bh4kt\n",
      "11s         Normal   ScalingReplicaSet   deployment/nfs-subdir-external-provisioner                Scaled up replica set nfs-subdir-external-provisioner-85b959b6df to 1\n"
     ]
    }
   ],
   "source": [
    "oc get events"
   ]
  },
  {
   "cell_type": "code",
   "execution_count": 22,
   "id": "8b4c76cc-71c4-4a02-b4fd-aa97b27c4d7f",
   "metadata": {
    "collapsed": true,
    "jupyter": {
     "outputs_hidden": true
    },
    "tags": []
   },
   "outputs": [
    {
     "name": "stdout",
     "output_type": "stream",
     "text": [
      "---\n",
      "# Source: nfs-subdir-external-provisioner/templates/serviceaccount.yaml\n",
      "apiVersion: v1\n",
      "kind: ServiceAccount\n",
      "metadata:\n",
      "  labels:\n",
      "    chart: nfs-subdir-external-provisioner-4.0.16\n",
      "    heritage: Helm\n",
      "    app: nfs-subdir-external-provisioner\n",
      "    release: nfs-subdir-external-provisioner\n",
      "  name: nfs-subdir-external-provisioner\n",
      "---\n",
      "# Source: nfs-subdir-external-provisioner/templates/storageclass.yaml\n",
      "apiVersion: storage.k8s.io/v1\n",
      "kind: StorageClass\n",
      "metadata:\n",
      "  labels:\n",
      "    chart: nfs-subdir-external-provisioner-4.0.16\n",
      "    heritage: Helm\n",
      "    app: nfs-subdir-external-provisioner\n",
      "    release: nfs-subdir-external-provisioner\n",
      "  name: nfs-client\n",
      "  annotations:\n",
      "provisioner: cluster.local/nfs-subdir-external-provisioner\n",
      "allowVolumeExpansion: true\n",
      "reclaimPolicy: Delete\n",
      "parameters:\n",
      "  archiveOnDelete: \"true\"\n",
      "---\n",
      "# Source: nfs-subdir-external-provisioner/templates/clusterrole.yaml\n",
      "kind: ClusterRole\n",
      "apiVersion: rbac.authorization.k8s.io/v1\n",
      "metadata:\n",
      "  labels:\n",
      "    chart: nfs-subdir-external-provisioner-4.0.16\n",
      "    heritage: Helm\n",
      "    app: nfs-subdir-external-provisioner\n",
      "    release: nfs-subdir-external-provisioner\n",
      "  name: nfs-subdir-external-provisioner-runner\n",
      "rules:\n",
      "  - apiGroups: [\"\"]\n",
      "    resources: [\"nodes\"]\n",
      "    verbs: [\"get\", \"list\", \"watch\"]\n",
      "  - apiGroups: [\"\"]\n",
      "    resources: [\"persistentvolumes\"]\n",
      "    verbs: [\"get\", \"list\", \"watch\", \"create\", \"delete\"]\n",
      "  - apiGroups: [\"\"]\n",
      "    resources: [\"persistentvolumeclaims\"]\n",
      "    verbs: [\"get\", \"list\", \"watch\", \"update\"]\n",
      "  - apiGroups: [\"storage.k8s.io\"]\n",
      "    resources: [\"storageclasses\"]\n",
      "    verbs: [\"get\", \"list\", \"watch\"]\n",
      "  - apiGroups: [\"\"]\n",
      "    resources: [\"events\"]\n",
      "    verbs: [\"create\", \"update\", \"patch\"]\n",
      "---\n",
      "# Source: nfs-subdir-external-provisioner/templates/clusterrolebinding.yaml\n",
      "kind: ClusterRoleBinding\n",
      "apiVersion: rbac.authorization.k8s.io/v1\n",
      "metadata:\n",
      "  labels:\n",
      "    chart: nfs-subdir-external-provisioner-4.0.16\n",
      "    heritage: Helm\n",
      "    app: nfs-subdir-external-provisioner\n",
      "    release: nfs-subdir-external-provisioner\n",
      "  name: run-nfs-subdir-external-provisioner\n",
      "subjects:\n",
      "  - kind: ServiceAccount\n",
      "    name: nfs-subdir-external-provisioner\n",
      "    namespace: nfs-provisioner\n",
      "roleRef:\n",
      "  kind: ClusterRole\n",
      "  name: nfs-subdir-external-provisioner-runner\n",
      "  apiGroup: rbac.authorization.k8s.io\n",
      "---\n",
      "# Source: nfs-subdir-external-provisioner/templates/role.yaml\n",
      "kind: Role\n",
      "apiVersion: rbac.authorization.k8s.io/v1\n",
      "metadata:\n",
      "  labels:\n",
      "    chart: nfs-subdir-external-provisioner-4.0.16\n",
      "    heritage: Helm\n",
      "    app: nfs-subdir-external-provisioner\n",
      "    release: nfs-subdir-external-provisioner\n",
      "  name: leader-locking-nfs-subdir-external-provisioner\n",
      "rules:\n",
      "  - apiGroups: [\"\"]\n",
      "    resources: [\"endpoints\"]\n",
      "    verbs: [\"get\", \"list\", \"watch\", \"create\", \"update\", \"patch\"]\n",
      "---\n",
      "# Source: nfs-subdir-external-provisioner/templates/rolebinding.yaml\n",
      "kind: RoleBinding\n",
      "apiVersion: rbac.authorization.k8s.io/v1\n",
      "metadata:\n",
      "  labels:\n",
      "    chart: nfs-subdir-external-provisioner-4.0.16\n",
      "    heritage: Helm\n",
      "    app: nfs-subdir-external-provisioner\n",
      "    release: nfs-subdir-external-provisioner\n",
      "  name: leader-locking-nfs-subdir-external-provisioner\n",
      "subjects:\n",
      "  - kind: ServiceAccount\n",
      "    name: nfs-subdir-external-provisioner\n",
      "    namespace: nfs-provisioner\n",
      "roleRef:\n",
      "  kind: Role\n",
      "  name: leader-locking-nfs-subdir-external-provisioner\n",
      "  apiGroup: rbac.authorization.k8s.io\n",
      "---\n",
      "# Source: nfs-subdir-external-provisioner/templates/deployment.yaml\n",
      "apiVersion: apps/v1\n",
      "kind: Deployment\n",
      "metadata:\n",
      "  name: nfs-subdir-external-provisioner\n",
      "  labels:\n",
      "    chart: nfs-subdir-external-provisioner-4.0.16\n",
      "    heritage: Helm\n",
      "    app: nfs-subdir-external-provisioner\n",
      "    release: nfs-subdir-external-provisioner\n",
      "spec:\n",
      "  replicas: 1\n",
      "  strategy:\n",
      "    type: Recreate\n",
      "  selector:\n",
      "    matchLabels:\n",
      "      app: nfs-subdir-external-provisioner\n",
      "      release: nfs-subdir-external-provisioner\n",
      "  template:\n",
      "    metadata:\n",
      "      annotations:\n",
      "      labels:\n",
      "        app: nfs-subdir-external-provisioner\n",
      "        release: nfs-subdir-external-provisioner\n",
      "    spec:\n",
      "      serviceAccountName: nfs-subdir-external-provisioner\n",
      "      securityContext:\n",
      "        {}\n",
      "      containers:\n",
      "        - name: nfs-subdir-external-provisioner\n",
      "          image: \"k8s.gcr.io/sig-storage/nfs-subdir-external-provisioner:v4.0.2\"\n",
      "          imagePullPolicy: IfNotPresent\n",
      "          securityContext:\n",
      "            {}\n",
      "          volumeMounts:\n",
      "            - name: nfs-subdir-external-provisioner-root\n",
      "              mountPath: /persistentvolumes\n",
      "          env:\n",
      "            - name: PROVISIONER_NAME\n",
      "              value: cluster.local/nfs-subdir-external-provisioner\n",
      "            - name: NFS_SERVER\n",
      "              value: 172.26.0.2\n",
      "            - name: NFS_PATH\n",
      "              value: /\n",
      "      volumes:\n",
      "        - name: nfs-subdir-external-provisioner-root\n",
      "          nfs:\n",
      "            server: 172.26.0.2\n",
      "            path: /\n"
     ]
    }
   ],
   "source": [
    "helm template nfs-subdir-external-provisioner nfs-subdir-external-provisioner/nfs-subdir-external-provisioner \\\n",
    "    --set nfs.server=172.26.0.2 \\\n",
    "    --set nfs.path=/"
   ]
  },
  {
   "cell_type": "code",
   "execution_count": 41,
   "id": "9af3c6ee-9e68-436e-b500-d4ffe91efc20",
   "metadata": {},
   "outputs": [
    {
     "name": "stdout",
     "output_type": "stream",
     "text": [
      "  * \u001b[01;31m\u001b[Knfs\u001b[m\u001b[K-provisioner\n",
      "Using project \"\u001b[01;31m\u001b[Knfs\u001b[m\u001b[K-provisioner\" on server \"https://api.crc.testing:6443\".\n"
     ]
    }
   ],
   "source": [
    "oc projects | grep nfs"
   ]
  },
  {
   "cell_type": "code",
   "execution_count": 95,
   "id": "bfc336d1-ac23-46e7-b0bf-1b0fa5b844e1",
   "metadata": {},
   "outputs": [
    {
     "name": "stdout",
     "output_type": "stream",
     "text": [
      "NAME                              SECRETS   AGE\n",
      "builder                           2         37s\n",
      "default                           2         37s\n",
      "deployer                          2         37s\n",
      "nfs-subdir-external-provisioner   2         25s\n"
     ]
    }
   ],
   "source": [
    "oc get sa"
   ]
  },
  {
   "cell_type": "code",
   "execution_count": 96,
   "id": "95676a9f-8898-47a5-a121-4caf5ac9f4db",
   "metadata": {},
   "outputs": [
    {
     "name": "stdout",
     "output_type": "stream",
     "text": [
      "NAME                           \tNAMESPACE      \tREVISION\tUPDATED                                 \tSTATUS  \tCHART                                 \tAPP VERSION\n",
      "nfs-subdir-external-provisioner\tnfs-provisioner\t1       \t2022-05-02 13:06:43.994805495 +0200 CEST\tdeployed\tnfs-subdir-external-provisioner-4.0.16\t4.0.2      \n"
     ]
    }
   ],
   "source": [
    "helm ls"
   ]
  },
  {
   "cell_type": "code",
   "execution_count": 82,
   "id": "80512b1a-51e6-4988-88e1-846e00363feb",
   "metadata": {},
   "outputs": [
    {
     "name": "stdout",
     "output_type": "stream",
     "text": [
      "release \"nfs-subdir-external-provisioner\" uninstalled\n"
     ]
    }
   ],
   "source": [
    "helm uninstall nfs-subdir-external-provisioner"
   ]
  },
  {
   "cell_type": "code",
   "execution_count": 97,
   "id": "7bb6e27f-11f9-4548-a662-18e2893ea233",
   "metadata": {},
   "outputs": [
    {
     "name": "stdout",
     "output_type": "stream",
     "text": [
      "NAME         PROVISIONER                                     RECLAIMPOLICY   VOLUMEBINDINGMODE   ALLOWVOLUMEEXPANSION   AGE\n",
      "nfs-client   cluster.local/nfs-subdir-external-provisioner   Delete          Immediate           true                   39s\n"
     ]
    }
   ],
   "source": [
    "oc get storageclass"
   ]
  },
  {
   "cell_type": "code",
   "execution_count": 61,
   "id": "3ff3eaec-2ded-4a0d-a260-1fdc70e07215",
   "metadata": {},
   "outputs": [
    {
     "name": "stdout",
     "output_type": "stream",
     "text": [
      "apiVersion: v1\n",
      "items:\n",
      "- allowVolumeExpansion: true\n",
      "  apiVersion: storage.k8s.io/v1\n",
      "  kind: StorageClass\n",
      "  metadata:\n",
      "    annotations:\n",
      "      meta.helm.sh/release-name: nfs-subdir-external-provisioner\n",
      "      meta.helm.sh/release-namespace: nfs-provisioner\n",
      "    creationTimestamp: \"2022-05-02T10:49:32Z\"\n",
      "    labels:\n",
      "      app: nfs-subdir-external-provisioner\n",
      "      app.kubernetes.io/managed-by: Helm\n",
      "      chart: nfs-subdir-external-provisioner-4.0.16\n",
      "      heritage: Helm\n",
      "      release: nfs-subdir-external-provisioner\n",
      "    name: nfs-client\n",
      "    resourceVersion: \"51444\"\n",
      "    uid: 9015fc65-4795-4e8d-8a02-2cba66ac6e13\n",
      "  parameters:\n",
      "    archiveOnDelete: \"true\"\n",
      "  provisioner: cluster.local/nfs-subdir-external-provisioner\n",
      "  reclaimPolicy: Delete\n",
      "  volumeBindingMode: Immediate\n",
      "kind: List\n",
      "metadata:\n",
      "  resourceVersion: \"\"\n",
      "  selfLink: \"\"\n"
     ]
    }
   ],
   "source": [
    "oc get storageclass -o yaml"
   ]
  },
  {
   "cell_type": "code",
   "execution_count": 98,
   "id": "75b1174e-8a93-4e89-816b-a9c75caff854",
   "metadata": {},
   "outputs": [
    {
     "name": "stdout",
     "output_type": "stream",
     "text": [
      "persistentvolumeclaim/nfs-device created\n"
     ]
    }
   ],
   "source": [
    "oc apply -f - <<EOF\n",
    "apiVersion: v1\n",
    "kind: PersistentVolumeClaim\n",
    "metadata:\n",
    "  name: nfs-device\n",
    "spec:\n",
    "  storageClassName: nfs-client\n",
    "  accessModes:\n",
    "    - ReadWriteOnce\n",
    "  resources:\n",
    "    requests:\n",
    "      storage: 1Gi\n",
    "EOF"
   ]
  },
  {
   "cell_type": "code",
   "execution_count": 99,
   "id": "d4fe4cdd-5849-4f11-ac54-31a7a7067ae4",
   "metadata": {},
   "outputs": [
    {
     "name": "stdout",
     "output_type": "stream",
     "text": [
      "\u001b[01;31m\u001b[Knfs-device\u001b[m\u001b[K   Bound    pvc-a8a728ab-0ab5-4cc5-bacb-74ebd80389a0   1Gi        RWO            nfs-client     2s\n"
     ]
    }
   ],
   "source": [
    "oc get pvc | grep nfs-device"
   ]
  },
  {
   "cell_type": "code",
   "execution_count": 107,
   "id": "9fe3f8a9-f52a-49d5-9318-58c3135c0e5f",
   "metadata": {},
   "outputs": [
    {
     "name": "stdout",
     "output_type": "stream",
     "text": [
      "persistentvolumeclaim/nfs-device-1 created\n",
      "persistentvolumeclaim/nfs-device-2 created\n",
      "persistentvolumeclaim/nfs-device-3 created\n",
      "persistentvolumeclaim/nfs-device-4 created\n",
      "persistentvolumeclaim/nfs-device-5 created\n",
      "persistentvolumeclaim/nfs-device-6 created\n",
      "persistentvolumeclaim/nfs-device-7 created\n",
      "persistentvolumeclaim/nfs-device-8 created\n",
      "persistentvolumeclaim/nfs-device-9 created\n",
      "persistentvolumeclaim/nfs-device-10 created\n"
     ]
    }
   ],
   "source": [
    "for i in $(seq 1 10) ;\n",
    "do\n",
    "oc apply -f - <<EOF\n",
    "apiVersion: v1\n",
    "kind: PersistentVolumeClaim\n",
    "metadata:\n",
    "  name: nfs-device-$i\n",
    "spec:\n",
    "  storageClassName: nfs-client\n",
    "  accessModes:\n",
    "    - ReadWriteOnce\n",
    "  resources:\n",
    "    requests:\n",
    "      storage: 1Gi\n",
    "EOF\n",
    "done"
   ]
  },
  {
   "cell_type": "code",
   "execution_count": 108,
   "id": "dea435c9-67c9-478d-9319-356cbab505fb",
   "metadata": {},
   "outputs": [
    {
     "name": "stdout",
     "output_type": "stream",
     "text": [
      "NAME                                                        CAPACITY   ACCESS MODES   RECLAIM POLICY   STATUS      CLAIM                                                 STORAGECLASS   REASON   AGE\n",
      "persistentvolume/pv0001                                     100Gi      RWO,ROX,RWX    Recycle          Bound       openshift-image-registry/crc-image-registry-storage                           15d\n",
      "persistentvolume/pv0002                                     100Gi      RWO,ROX,RWX    Recycle          Available                                                                                 15d\n",
      "persistentvolume/pv0004                                     100Gi      RWO,ROX,RWX    Recycle          Bound       harbor/database-data-my-harbor-database-0                                     15d\n",
      "persistentvolume/pv0005                                     100Gi      RWO,ROX,RWX    Recycle          Available                                                                                 15d\n",
      "persistentvolume/pv0006                                     100Gi      RWO,ROX,RWX    Recycle          Available                                                                                 15d\n",
      "persistentvolume/pv0007                                     100Gi      RWO,ROX,RWX    Recycle          Available                                                                                 15d\n",
      "persistentvolume/pv0008                                     100Gi      RWO,ROX,RWX    Recycle          Available                                                                                 15d\n",
      "persistentvolume/pv0010                                     100Gi      RWO,ROX,RWX    Recycle          Bound       harbor/data-my-harbor-trivy-0                                                 15d\n",
      "persistentvolume/pv0011                                     100Gi      RWO,ROX,RWX    Recycle          Bound       harbor/data-my-harbor-redis-0                                                 15d\n",
      "persistentvolume/pv0012                                     100Gi      RWO,ROX,RWX    Recycle          Available                                                                                 15d\n",
      "persistentvolume/pv0013                                     100Gi      RWO,ROX,RWX    Recycle          Available                                                                                 15d\n",
      "persistentvolume/pv0014                                     100Gi      RWO,ROX,RWX    Recycle          Available                                                                                 15d\n",
      "persistentvolume/pv0016                                     100Gi      RWO,ROX,RWX    Recycle          Available                                                                                 15d\n",
      "persistentvolume/pv0017                                     100Gi      RWO,ROX,RWX    Recycle          Available                                                                                 15d\n",
      "persistentvolume/pv0018                                     100Gi      RWO,ROX,RWX    Recycle          Available                                                                                 15d\n",
      "persistentvolume/pv0019                                     100Gi      RWO,ROX,RWX    Recycle          Available                                                                                 15d\n",
      "persistentvolume/pv0020                                     100Gi      RWO,ROX,RWX    Recycle          Bound       harbor/my-harbor-chartmuseum                                                  15d\n",
      "persistentvolume/pv0021                                     100Gi      RWO,ROX,RWX    Recycle          Available                                                                                 15d\n",
      "persistentvolume/pv0022                                     100Gi      RWO,ROX,RWX    Recycle          Available                                                                                 15d\n",
      "persistentvolume/pv0023                                     100Gi      RWO,ROX,RWX    Recycle          Available                                                                                 15d\n",
      "persistentvolume/pv0024                                     100Gi      RWO,ROX,RWX    Recycle          Available                                                                                 15d\n",
      "persistentvolume/pv0025                                     100Gi      RWO,ROX,RWX    Recycle          Bound       harbor/my-harbor-registry                                                     15d\n",
      "persistentvolume/pv0026                                     100Gi      RWO,ROX,RWX    Recycle          Bound       harbor/my-harbor-jobservice                                                   15d\n",
      "persistentvolume/pv0027                                     100Gi      RWO,ROX,RWX    Recycle          Available                                                                                 15d\n",
      "persistentvolume/pv0028                                     100Gi      RWO,ROX,RWX    Recycle          Available                                                                                 15d\n",
      "persistentvolume/pv0029                                     100Gi      RWO,ROX,RWX    Recycle          Available                                                                                 15d\n",
      "persistentvolume/pv0030                                     100Gi      RWO,ROX,RWX    Recycle          Available                                                                                 15d\n",
      "persistentvolume/pvc-3220e841-540c-47a8-a1fd-d66bff546115   1Gi        RWO            Delete           Bound       nfs-provisioner/nfs-device-6                          nfs-client              0s\n",
      "persistentvolume/pvc-45b1a237-fecb-4dad-9fc6-c73ccbe6bae9   1Gi        RWO            Delete           Bound       nfs-provisioner/nfs-device-4                          nfs-client              1s\n",
      "persistentvolume/pvc-548f5525-ff69-4aef-a11b-646f827dd2f6   1Gi        RWO            Delete           Bound       nfs-provisioner/nfs-device-3                          nfs-client              2s\n",
      "persistentvolume/pvc-95db67ba-ff00-49dc-a137-8eb8041aeb90   1Gi        RWO            Delete           Bound       nfs-provisioner/nfs-device-1                          nfs-client              2s\n",
      "persistentvolume/pvc-a36d28d8-377e-4afe-aa53-b52d9ad3a09e   1Gi        RWO            Delete           Bound       nfs-provisioner/nfs-device-2                          nfs-client              2s\n",
      "persistentvolume/pvc-e093f716-a977-4120-bafc-2d888d9f0ecc   1Gi        RWO            Delete           Bound       nfs-provisioner/nfs-device-5                          nfs-client              0s\n",
      "\n",
      "NAME                                  STATUS    VOLUME                                     CAPACITY   ACCESS MODES   STORAGECLASS   AGE\n",
      "persistentvolumeclaim/nfs-device-1    Bound     pvc-95db67ba-ff00-49dc-a137-8eb8041aeb90   1Gi        RWO            nfs-client     2s\n",
      "persistentvolumeclaim/nfs-device-10   Pending                                                                        nfs-client     0s\n",
      "persistentvolumeclaim/nfs-device-2    Bound     pvc-a36d28d8-377e-4afe-aa53-b52d9ad3a09e   1Gi        RWO            nfs-client     2s\n",
      "persistentvolumeclaim/nfs-device-3    Bound     pvc-548f5525-ff69-4aef-a11b-646f827dd2f6   1Gi        RWO            nfs-client     2s\n",
      "persistentvolumeclaim/nfs-device-4    Bound     pvc-45b1a237-fecb-4dad-9fc6-c73ccbe6bae9   1Gi        RWO            nfs-client     2s\n",
      "persistentvolumeclaim/nfs-device-5    Bound     pvc-e093f716-a977-4120-bafc-2d888d9f0ecc   1Gi        RWO            nfs-client     2s\n",
      "persistentvolumeclaim/nfs-device-6    Bound     pvc-3220e841-540c-47a8-a1fd-d66bff546115   1Gi        RWO            nfs-client     1s\n",
      "persistentvolumeclaim/nfs-device-7    Pending                                                                        nfs-client     1s\n",
      "persistentvolumeclaim/nfs-device-8    Pending                                                                        nfs-client     1s\n",
      "persistentvolumeclaim/nfs-device-9    Pending                                                                        nfs-client     1s\n"
     ]
    }
   ],
   "source": [
    "oc get pv,pvc"
   ]
  },
  {
   "cell_type": "code",
   "execution_count": 103,
   "id": "4fd928d0-487d-4a27-ad6d-93667fa6c41d",
   "metadata": {},
   "outputs": [
    {
     "name": "stdout",
     "output_type": "stream",
     "text": [
      "persistentvolumeclaim \"nfs-device\" deleted\n"
     ]
    }
   ],
   "source": [
    "oc delete pvc nfs-device"
   ]
  },
  {
   "cell_type": "code",
   "execution_count": 109,
   "id": "4ea4a648-365f-411f-bd71-83fcdd1d62e2",
   "metadata": {},
   "outputs": [
    {
     "name": "stdout",
     "output_type": "stream",
     "text": [
      "persistentvolumeclaim \"nfs-device-1\" deleted\n",
      "persistentvolumeclaim \"nfs-device-2\" deleted\n",
      "persistentvolumeclaim \"nfs-device-3\" deleted\n",
      "persistentvolumeclaim \"nfs-device-4\" deleted\n",
      "persistentvolumeclaim \"nfs-device-5\" deleted\n",
      "persistentvolumeclaim \"nfs-device-6\" deleted\n",
      "persistentvolumeclaim \"nfs-device-7\" deleted\n",
      "persistentvolumeclaim \"nfs-device-8\" deleted\n",
      "persistentvolumeclaim \"nfs-device-9\" deleted\n",
      "persistentvolumeclaim \"nfs-device-10\" deleted\n"
     ]
    }
   ],
   "source": [
    "for i in $(seq 1 10) ;\n",
    "do\n",
    "oc delete pvc nfs-device-$i\n",
    "done"
   ]
  },
  {
   "cell_type": "code",
   "execution_count": 84,
   "id": "3419253b-2c74-4ca3-a2e8-89dde511cf9c",
   "metadata": {},
   "outputs": [
    {
     "name": "stdout",
     "output_type": "stream",
     "text": [
      "Error: uninstall: Release not loaded: nfs-subdir-external-provisioner: release: not found\n"
     ]
    },
    {
     "ename": "",
     "evalue": "1",
     "output_type": "error",
     "traceback": []
    }
   ],
   "source": [
    "helm uninstall  nfs-subdir-external-provisioner"
   ]
  },
  {
   "cell_type": "code",
   "execution_count": 85,
   "id": "80297885-6bce-45ca-9130-7e589d4c343c",
   "metadata": {},
   "outputs": [
    {
     "name": "stdout",
     "output_type": "stream",
     "text": [
      "NAME\tNAMESPACE\tREVISION\tUPDATED\tSTATUS\tCHART\tAPP VERSION\n"
     ]
    }
   ],
   "source": [
    "helm ls"
   ]
  },
  {
   "cell_type": "code",
   "execution_count": 87,
   "id": "be6d3e1f-1a9c-453f-9fef-b3618c6d138d",
   "metadata": {},
   "outputs": [
    {
     "name": "stdout",
     "output_type": "stream",
     "text": [
      "Error from server (NotFound): clusterrolebindings.rbac.authorization.k8s.io \"system:openshift:scc:privileged\" not found\n"
     ]
    },
    {
     "ename": "",
     "evalue": "1",
     "output_type": "error",
     "traceback": []
    }
   ],
   "source": [
    "oc adm policy remove-scc-from-user privileged system:serviceaccount:$PROJECT:nfs-subdir-external-provisioner"
   ]
  },
  {
   "cell_type": "code",
   "execution_count": 11,
   "id": "6601d226-4eaa-478a-be5a-83f5fe28d17f",
   "metadata": {},
   "outputs": [
    {
     "name": "stdout",
     "output_type": "stream",
     "text": [
      "project.project.openshift.io \"nfs-provisioner\" deleted\n"
     ]
    }
   ],
   "source": [
    "oc delete project $PROJECT"
   ]
  },
  {
   "cell_type": "code",
   "execution_count": 19,
   "id": "06095855-4a8f-4a10-bacf-73615d5831f3",
   "metadata": {},
   "outputs": [
    {
     "name": "stdout",
     "output_type": "stream",
     "text": [
      "NAME         PROVISIONER                                     RECLAIMPOLICY   VOLUMEBINDINGMODE   ALLOWVOLUMEEXPANSION   AGE\n",
      "nfs-client   cluster.local/nfs-subdir-external-provisioner   Delete          Immediate           true                   25m\n"
     ]
    }
   ],
   "source": [
    "kubectl get storageclass"
   ]
  },
  {
   "cell_type": "code",
   "execution_count": null,
   "id": "12aa22c5-c5c9-485a-87e0-4081f87f7c04",
   "metadata": {},
   "outputs": [],
   "source": []
  }
 ],
 "metadata": {
  "kernelspec": {
   "display_name": "Bash",
   "language": "bash",
   "name": "bash"
  },
  "language_info": {
   "codemirror_mode": "shell",
   "file_extension": ".sh",
   "mimetype": "text/x-sh",
   "name": "bash"
  }
 },
 "nbformat": 4,
 "nbformat_minor": 5
}
