{
 "cells": [
  {
   "cell_type": "code",
   "execution_count": 1,
   "id": "42ba6b3b-36ed-43cf-9a7a-39c4495e5398",
   "metadata": {},
   "outputs": [
    {
     "name": "stdout",
     "output_type": "stream",
     "text": [
      "Login successful.\n",
      "\n",
      "You have access to 67 projects, the list has been suppressed. You can list all projects with 'oc projects'\n",
      "\n",
      "Using project \"imagetragick\".\n"
     ]
    }
   ],
   "source": [
    "$(crc console --credentials | sed \"s/^.*\\ '//\" | sed \"s/'.*$//\" | tail -1)"
   ]
  },
  {
   "cell_type": "code",
   "execution_count": 32,
   "id": "69685bdf-0f05-4b09-be28-f7ff157d6212",
   "metadata": {},
   "outputs": [
    {
     "name": "stdout",
     "output_type": "stream",
     "text": [
      "To login as a regular user, run 'oc login -u developer -p developer https://api.crc.testing:6443'.\n",
      "To login as an admin, run 'oc login -u kubeadmin -p qGRkW-r8efv-M9JNo-9BkQn https://api.crc.testing:6443'\n"
     ]
    }
   ],
   "source": [
    "crc console --credentials"
   ]
  },
  {
   "cell_type": "code",
   "execution_count": 34,
   "id": "818aa47d-be47-41fa-b769-96ce3bc39c24",
   "metadata": {},
   "outputs": [
    {
     "name": "stdout",
     "output_type": "stream",
     "text": [
      "NAME         PROVISIONER                                     RECLAIMPOLICY   VOLUMEBINDINGMODE   ALLOWVOLUMEEXPANSION   AGE\n",
      "nfs-client   cluster.local/nfs-subdir-external-provisioner   Delete          Immediate           true                   17s\n"
     ]
    }
   ],
   "source": [
    "kubectl get sc"
   ]
  },
  {
   "cell_type": "code",
   "execution_count": 35,
   "id": "4bbe87c6-01b1-432d-b66b-72e02e24789d",
   "metadata": {},
   "outputs": [
    {
     "name": "stdout",
     "output_type": "stream",
     "text": [
      "storageclass.storage.k8s.io/nfs-client patched\n"
     ]
    }
   ],
   "source": [
    "kubectl patch storageclass nfs-client -p '{\"metadata\": {\"annotations\":{\"storageclass.kubernetes.io/is-default-class\":\"true\"}}}'"
   ]
  },
  {
   "cell_type": "code",
   "execution_count": 36,
   "id": "acf55c0b-9522-4c6c-9910-3db59eb9c7bf",
   "metadata": {},
   "outputs": [
    {
     "name": "stdout",
     "output_type": "stream",
     "text": [
      "apiVersion: v1\n",
      "items:\n",
      "- allowVolumeExpansion: true\n",
      "  apiVersion: storage.k8s.io/v1\n",
      "  kind: StorageClass\n",
      "  metadata:\n",
      "    annotations:\n",
      "      meta.helm.sh/release-name: nfs-subdir-external-provisioner\n",
      "      meta.helm.sh/release-namespace: nfs-provisioner\n",
      "      storageclass.kubernetes.io/is-default-class: \"true\"\n",
      "    creationTimestamp: \"2022-06-11T18:28:44Z\"\n",
      "    labels:\n",
      "      app: nfs-subdir-external-provisioner\n",
      "      app.kubernetes.io/managed-by: Helm\n",
      "      chart: nfs-subdir-external-provisioner-4.0.16\n",
      "      heritage: Helm\n",
      "      release: nfs-subdir-external-provisioner\n",
      "    name: nfs-client\n",
      "    resourceVersion: \"34566\"\n",
      "    uid: 9d5f5829-4bb9-40ee-8346-c6735e74f5e7\n",
      "  parameters:\n",
      "    archiveOnDelete: \"true\"\n",
      "  provisioner: cluster.local/nfs-subdir-external-provisioner\n",
      "  reclaimPolicy: Delete\n",
      "  volumeBindingMode: Immediate\n",
      "kind: List\n",
      "metadata:\n",
      "  resourceVersion: \"\"\n",
      "  selfLink: \"\"\n"
     ]
    }
   ],
   "source": [
    "oc get sc -o yaml"
   ]
  },
  {
   "cell_type": "code",
   "execution_count": 37,
   "id": "c80a9bae-ca7a-4ff5-b451-24d081eafb7b",
   "metadata": {},
   "outputs": [
    {
     "name": "stdout",
     "output_type": "stream",
     "text": [
      "Now using project \"harbor\" on server \"https://api.crc.testing:6443\".\n",
      "\n",
      "You can add applications to this project with the 'new-app' command. For example, try:\n",
      "\n",
      "    oc new-app rails-postgresql-example\n",
      "\n",
      "to build a new example application in Ruby. Or use kubectl to deploy a simple Kubernetes application:\n",
      "\n",
      "    kubectl create deployment hello-node --image=k8s.gcr.io/e2e-test-images/agnhost:2.33 -- /agnhost serve-hostname\n",
      "\n"
     ]
    }
   ],
   "source": [
    "oc new-project harbor"
   ]
  },
  {
   "cell_type": "code",
   "execution_count": 38,
   "id": "6e16e5cc-8ca7-492c-a434-2ffe983f4259",
   "metadata": {},
   "outputs": [
    {
     "name": "stdout",
     "output_type": "stream",
     "text": [
      "Already on project \"harbor\" on server \"https://api.crc.testing:6443\".\n"
     ]
    }
   ],
   "source": [
    "oc project harbor"
   ]
  },
  {
   "cell_type": "markdown",
   "id": "378455a9-d26e-4812-9ca8-eaebe94c1df5",
   "metadata": {},
   "source": [
    "Following https://github.com/goharbor/harbor-helm and https://computingforgeeks.com/install-harbor-image-registry-on-kubernetes-openshift-with-helm-chart/"
   ]
  },
  {
   "cell_type": "code",
   "execution_count": 39,
   "id": "b6141765-e1d0-4a91-8fa9-f87f71e9bc2b",
   "metadata": {},
   "outputs": [
    {
     "name": "stdout",
     "output_type": "stream",
     "text": [
      "\"harbor\" already exists with the same configuration, skipping\n"
     ]
    }
   ],
   "source": [
    "helm repo add harbor https://helm.goharbor.io"
   ]
  },
  {
   "cell_type": "code",
   "execution_count": 40,
   "id": "9460dc54-2b08-4b5a-9b6b-193bf6b5be49",
   "metadata": {},
   "outputs": [
    {
     "name": "stdout",
     "output_type": "stream",
     "text": [
      "No resources found in harbor namespace.\n"
     ]
    }
   ],
   "source": [
    "oc get all"
   ]
  },
  {
   "cell_type": "code",
   "execution_count": 41,
   "id": "f81907bf-92e6-4874-8936-0d6d3ba99d94",
   "metadata": {},
   "outputs": [
    {
     "name": "stdout",
     "output_type": "stream",
     "text": [
      "No resources found in harbor namespace.\n"
     ]
    }
   ],
   "source": [
    "oc get events"
   ]
  },
  {
   "cell_type": "code",
   "execution_count": 65,
   "id": "80398839-72a0-4e37-9fa9-d3199e180347",
   "metadata": {},
   "outputs": [
    {
     "name": "stdout",
     "output_type": "stream",
     "text": [
      "NAME       SECRETS   AGE\n",
      "builder    2         44s\n",
      "default    2         44s\n",
      "deployer   2         44s\n"
     ]
    }
   ],
   "source": [
    "oc get sa"
   ]
  },
  {
   "cell_type": "code",
   "execution_count": 42,
   "id": "6ca4577e-30f4-4d04-8b85-895f331dbac4",
   "metadata": {},
   "outputs": [
    {
     "name": "stdout",
     "output_type": "stream",
     "text": [
      "clusterrole.rbac.authorization.k8s.io/system:openshift:scc:anyuid added: \"default\"\n"
     ]
    }
   ],
   "source": [
    "oc adm policy add-scc-to-user -z default anyuid"
   ]
  },
  {
   "cell_type": "code",
   "execution_count": 43,
   "id": "d46118a1-ca13-4b53-8cbb-a8ed0ad67662",
   "metadata": {
    "tags": []
   },
   "outputs": [
    {
     "name": "stdout",
     "output_type": "stream",
     "text": [
      "NAME\tNAMESPACE\tREVISION\tUPDATED\tSTATUS\tCHART\tAPP VERSION\n"
     ]
    }
   ],
   "source": [
    "helm ls"
   ]
  },
  {
   "cell_type": "code",
   "execution_count": 44,
   "id": "39328086-95d9-48d5-bcb3-78d437746a92",
   "metadata": {
    "tags": []
   },
   "outputs": [],
   "source": [
    "export OPENSHIFT_DOMAIN=apps-crc.testing"
   ]
  },
  {
   "cell_type": "code",
   "execution_count": 45,
   "id": "eabba6f4-a080-4d3b-b102-f3e393e80abd",
   "metadata": {},
   "outputs": [
    {
     "name": "stdout",
     "output_type": "stream",
     "text": [
      "Hang tight while we grab the latest from your chart repositories...\n",
      "...Successfully got an update from the \"nfs-subdir-external-provisioner\" chart repository\n",
      "...Successfully got an update from the \"csi-driver-smb\" chart repository\n",
      "...Successfully got an update from the \"kong\" chart repository\n",
      "...Successfully got an update from the \"confluentinc\" chart repository\n",
      "...Successfully got an update from the \"dandydev\" chart repository\n",
      "...Successfully got an update from the \"ingress-nginx\" chart repository\n",
      "...Successfully got an update from the \"harbor\" chart repository\n",
      "...Successfully got an update from the \"nginx-stable\" chart repository\n",
      "...Successfully got an update from the \"sentry\" chart repository\n",
      "...Successfully got an update from the \"elastic\" chart repository\n",
      "...Successfully got an update from the \"jetstack\" chart repository\n",
      "...Successfully got an update from the \"gitea-charts\" chart repository\n",
      "...Successfully got an update from the \"argo\" chart repository\n",
      "...Successfully got an update from the \"glitchtip\" chart repository\n",
      "...Successfully got an update from the \"projectcalico\" chart repository\n",
      "...Successfully got an update from the \"k8s-at-home\" chart repository\n",
      "...Successfully got an update from the \"bitnami\" chart repository\n",
      "Update Complete. ⎈Happy Helming!⎈\n"
     ]
    }
   ],
   "source": [
    "helm repo update"
   ]
  },
  {
   "cell_type": "code",
   "execution_count": 46,
   "id": "fb99da81-495f-45cc-b438-cbd8b3528123",
   "metadata": {},
   "outputs": [
    {
     "name": "stdout",
     "output_type": "stream",
     "text": [
      "Release \"harbor\" does not exist. Installing it now.\n",
      "NAME: harbor\n",
      "LAST DEPLOYED: Sat Jun 11 20:29:55 2022\n",
      "NAMESPACE: harbor\n",
      "STATUS: deployed\n",
      "REVISION: 1\n",
      "TEST SUITE: None\n",
      "NOTES:\n",
      "Please wait for several minutes for Harbor deployment to complete.\n",
      "Then you should be able to visit the Harbor portal at https://ocr.apps-crc.testing\n",
      "For more details, please visit https://github.com/goharbor/harbor\n"
     ]
    }
   ],
   "source": [
    "helm upgrade --install harbor harbor/harbor \\\n",
    "--set persistence.persistentVolumeClaim.registry.accessMode=ReadWriteMany \\\n",
    "--set persistence.persistentVolumeClaim.registry.size=50Gi \\\n",
    "--set persistence.persistentVolumeClaim.chartmuseum.size=5Gi \\\n",
    "--set persistence.persistentVolumeClaim.database.size=5Gi \\\n",
    "--set externalURL=https://ocr.${OPENSHIFT_DOMAIN} \\\n",
    "--set expose.ingress.hosts.core=ocr.${OPENSHIFT_DOMAIN} \\\n",
    "--set expose.ingress.hosts.notary=notary.${OPENSHIFT_DOMAIN} \\\n",
    "--set harborAdminPassword=H@rb0rAdm \\\n",
    "-n harbor"
   ]
  },
  {
   "cell_type": "code",
   "execution_count": 47,
   "id": "3a9d9391-e59a-4696-8a62-e60897ebad3e",
   "metadata": {},
   "outputs": [
    {
     "name": "stdout",
     "output_type": "stream",
     "text": [
      "NAME  \tNAMESPACE\tREVISION\tUPDATED                                 \tSTATUS  \tCHART       \tAPP VERSION\n",
      "harbor\tharbor   \t1       \t2022-06-11 20:29:55.310240909 +0200 CEST\tdeployed\tharbor-1.9.1\t2.5.1      \n"
     ]
    }
   ],
   "source": [
    "helm ls"
   ]
  },
  {
   "cell_type": "code",
   "execution_count": 52,
   "id": "6856e5ce-28c6-4289-ab2e-cac0ed27ff25",
   "metadata": {},
   "outputs": [
    {
     "name": "stdout",
     "output_type": "stream",
     "text": [
      "NAME                                       READY   STATUS    RESTARTS   AGE\n",
      "pod/harbor-chartmuseum-74bf669bf6-mkkpn    1/1     Running   0          39s\n",
      "pod/harbor-core-7475b56c96-86jvj           0/1     Running   0          39s\n",
      "pod/harbor-database-0                      1/1     Running   0          39s\n",
      "pod/harbor-jobservice-7f7f464857-p7nkh     0/1     Running   0          39s\n",
      "pod/harbor-notary-server-ffb8c7887-w2bqq   0/1     Running   0          39s\n",
      "pod/harbor-notary-signer-59fbb6cc5-lc2c6   0/1     Running   0          39s\n",
      "pod/harbor-portal-6bfb7684b5-lns8q         1/1     Running   0          39s\n",
      "pod/harbor-redis-0                         1/1     Running   0          39s\n",
      "pod/harbor-registry-6988cd44bf-tk6sn       2/2     Running   0          39s\n",
      "pod/harbor-trivy-0                         1/1     Running   0          39s\n",
      "\n",
      "NAME                           TYPE        CLUSTER-IP     EXTERNAL-IP   PORT(S)             AGE\n",
      "service/harbor-chartmuseum     ClusterIP   10.217.4.96    <none>        80/TCP              39s\n",
      "service/harbor-core            ClusterIP   10.217.4.30    <none>        80/TCP              39s\n",
      "service/harbor-database        ClusterIP   10.217.5.198   <none>        5432/TCP            39s\n",
      "service/harbor-jobservice      ClusterIP   10.217.5.69    <none>        80/TCP              39s\n",
      "service/harbor-notary-server   ClusterIP   10.217.5.196   <none>        4443/TCP            39s\n",
      "service/harbor-notary-signer   ClusterIP   10.217.5.55    <none>        7899/TCP            39s\n",
      "service/harbor-portal          ClusterIP   10.217.4.208   <none>        80/TCP              39s\n",
      "service/harbor-redis           ClusterIP   10.217.4.234   <none>        6379/TCP            39s\n",
      "service/harbor-registry        ClusterIP   10.217.4.91    <none>        5000/TCP,8080/TCP   39s\n",
      "service/harbor-trivy           ClusterIP   10.217.4.226   <none>        8080/TCP            39s\n",
      "\n",
      "NAME                                   READY   UP-TO-DATE   AVAILABLE   AGE\n",
      "deployment.apps/harbor-chartmuseum     1/1     1            1           39s\n",
      "deployment.apps/harbor-core            0/1     1            0           39s\n",
      "deployment.apps/harbor-jobservice      0/1     1            0           39s\n",
      "deployment.apps/harbor-notary-server   0/1     1            0           39s\n",
      "deployment.apps/harbor-notary-signer   0/1     1            0           39s\n",
      "deployment.apps/harbor-portal          1/1     1            1           39s\n",
      "deployment.apps/harbor-registry        1/1     1            1           39s\n",
      "\n",
      "NAME                                             DESIRED   CURRENT   READY   AGE\n",
      "replicaset.apps/harbor-chartmuseum-74bf669bf6    1         1         1       39s\n",
      "replicaset.apps/harbor-core-7475b56c96           1         1         0       39s\n",
      "replicaset.apps/harbor-jobservice-7f7f464857     1         1         0       39s\n",
      "replicaset.apps/harbor-notary-server-ffb8c7887   1         1         0       39s\n",
      "replicaset.apps/harbor-notary-signer-59fbb6cc5   1         1         0       39s\n",
      "replicaset.apps/harbor-portal-6bfb7684b5         1         1         1       39s\n",
      "replicaset.apps/harbor-registry-6988cd44bf       1         1         1       39s\n",
      "\n",
      "NAME                               READY   AGE\n",
      "statefulset.apps/harbor-database   1/1     39s\n",
      "statefulset.apps/harbor-redis      1/1     39s\n",
      "statefulset.apps/harbor-trivy      1/1     39s\n",
      "\n",
      "NAME                                                   HOST/PORT                 PATH          SERVICES               PORT       TERMINATION     WILDCARD\n",
      "route.route.openshift.io/harbor-ingress-4mbws          ocr.apps-crc.testing      /             harbor-portal          <all>      edge/Redirect   None\n",
      "route.route.openshift.io/harbor-ingress-ccmbw          ocr.apps-crc.testing      /v2           harbor-core            http-web   edge/Redirect   None\n",
      "route.route.openshift.io/harbor-ingress-f42gs          ocr.apps-crc.testing      /api/         harbor-core            http-web   edge/Redirect   None\n",
      "route.route.openshift.io/harbor-ingress-jntdh          ocr.apps-crc.testing      /c/           harbor-core            http-web   edge/Redirect   None\n",
      "route.route.openshift.io/harbor-ingress-n7qwv          ocr.apps-crc.testing      /service/     harbor-core            http-web   edge/Redirect   None\n",
      "route.route.openshift.io/harbor-ingress-notary-q5jv2   notary.apps-crc.testing   /             harbor-notary-server   <all>      edge/Redirect   None\n",
      "route.route.openshift.io/harbor-ingress-xwctj          ocr.apps-crc.testing      /chartrepo/   harbor-core            http-web   edge/Redirect   None\n"
     ]
    }
   ],
   "source": [
    "oc get all"
   ]
  },
  {
   "cell_type": "code",
   "execution_count": 53,
   "id": "73b63619-8957-423b-94bc-9ae0c25bee01",
   "metadata": {},
   "outputs": [
    {
     "name": "stdout",
     "output_type": "stream",
     "text": [
      "NAME                           TYPE        CLUSTER-IP     EXTERNAL-IP   PORT(S)             AGE\n",
      "service/harbor-chartmuseum     ClusterIP   10.217.4.96    <none>        80/TCP              45s\n",
      "service/harbor-core            ClusterIP   10.217.4.30    <none>        80/TCP              45s\n",
      "service/harbor-database        ClusterIP   10.217.5.198   <none>        5432/TCP            45s\n",
      "service/harbor-jobservice      ClusterIP   10.217.5.69    <none>        80/TCP              45s\n",
      "service/harbor-notary-server   ClusterIP   10.217.5.196   <none>        4443/TCP            45s\n",
      "service/harbor-notary-signer   ClusterIP   10.217.5.55    <none>        7899/TCP            45s\n",
      "service/harbor-portal          ClusterIP   10.217.4.208   <none>        80/TCP              45s\n",
      "service/harbor-redis           ClusterIP   10.217.4.234   <none>        6379/TCP            45s\n",
      "service/harbor-registry        ClusterIP   10.217.4.91    <none>        5000/TCP,8080/TCP   45s\n",
      "service/harbor-trivy           ClusterIP   10.217.4.226   <none>        8080/TCP            45s\n",
      "\n",
      "NAME                                              CLASS    HOSTS                     ADDRESS                           PORTS     AGE\n",
      "ingress.networking.k8s.io/harbor-ingress          <none>   ocr.apps-crc.testing      router-default.apps-crc.testing   80, 443   45s\n",
      "ingress.networking.k8s.io/harbor-ingress-notary   <none>   notary.apps-crc.testing   router-default.apps-crc.testing   80, 443   45s\n",
      "\n",
      "NAME                                                   HOST/PORT                 PATH          SERVICES               PORT       TERMINATION     WILDCARD\n",
      "route.route.openshift.io/harbor-ingress-4mbws          ocr.apps-crc.testing      /             harbor-portal          <all>      edge/Redirect   None\n",
      "route.route.openshift.io/harbor-ingress-ccmbw          ocr.apps-crc.testing      /v2           harbor-core            http-web   edge/Redirect   None\n",
      "route.route.openshift.io/harbor-ingress-f42gs          ocr.apps-crc.testing      /api/         harbor-core            http-web   edge/Redirect   None\n",
      "route.route.openshift.io/harbor-ingress-jntdh          ocr.apps-crc.testing      /c/           harbor-core            http-web   edge/Redirect   None\n",
      "route.route.openshift.io/harbor-ingress-n7qwv          ocr.apps-crc.testing      /service/     harbor-core            http-web   edge/Redirect   None\n",
      "route.route.openshift.io/harbor-ingress-notary-q5jv2   notary.apps-crc.testing   /             harbor-notary-server   <all>      edge/Redirect   None\n",
      "route.route.openshift.io/harbor-ingress-xwctj          ocr.apps-crc.testing      /chartrepo/   harbor-core            http-web   edge/Redirect   None\n"
     ]
    }
   ],
   "source": [
    "oc get svc,ing,routes"
   ]
  },
  {
   "cell_type": "code",
   "execution_count": 83,
   "id": "25db6ba4-db86-4e27-a5d5-9c99eff12633",
   "metadata": {},
   "outputs": [
    {
     "name": "stdout",
     "output_type": "stream",
     "text": [
      "Error: uninstall: Release not loaded: my: release: not found\n"
     ]
    },
    {
     "ename": "",
     "evalue": "1",
     "output_type": "error",
     "traceback": []
    }
   ],
   "source": [
    "helm uninstall my"
   ]
  },
  {
   "cell_type": "code",
   "execution_count": 55,
   "id": "cd7ce814-6562-498c-ab4d-c5cd74f90660",
   "metadata": {},
   "outputs": [
    {
     "name": "stdout",
     "output_type": "stream",
     "text": [
      "NAME                                       READY   STATUS    RESTARTS   AGE\n",
      "pod/harbor-chartmuseum-74bf669bf6-mkkpn    1/1     Running   0          102s\n",
      "pod/harbor-core-7475b56c96-86jvj           1/1     Running   0          102s\n",
      "pod/harbor-database-0                      1/1     Running   0          102s\n",
      "pod/harbor-jobservice-7f7f464857-p7nkh     1/1     Running   0          102s\n",
      "pod/harbor-notary-server-ffb8c7887-w2bqq   1/1     Running   0          102s\n",
      "pod/harbor-notary-signer-59fbb6cc5-lc2c6   1/1     Running   0          102s\n",
      "pod/harbor-portal-6bfb7684b5-lns8q         1/1     Running   0          102s\n",
      "pod/harbor-redis-0                         1/1     Running   0          102s\n",
      "pod/harbor-registry-6988cd44bf-tk6sn       2/2     Running   0          102s\n",
      "pod/harbor-trivy-0                         1/1     Running   0          102s\n",
      "\n",
      "NAME                           TYPE        CLUSTER-IP     EXTERNAL-IP   PORT(S)             AGE\n",
      "service/harbor-chartmuseum     ClusterIP   10.217.4.96    <none>        80/TCP              102s\n",
      "service/harbor-core            ClusterIP   10.217.4.30    <none>        80/TCP              102s\n",
      "service/harbor-database        ClusterIP   10.217.5.198   <none>        5432/TCP            102s\n",
      "service/harbor-jobservice      ClusterIP   10.217.5.69    <none>        80/TCP              102s\n",
      "service/harbor-notary-server   ClusterIP   10.217.5.196   <none>        4443/TCP            102s\n",
      "service/harbor-notary-signer   ClusterIP   10.217.5.55    <none>        7899/TCP            102s\n",
      "service/harbor-portal          ClusterIP   10.217.4.208   <none>        80/TCP              102s\n",
      "service/harbor-redis           ClusterIP   10.217.4.234   <none>        6379/TCP            102s\n",
      "service/harbor-registry        ClusterIP   10.217.4.91    <none>        5000/TCP,8080/TCP   102s\n",
      "service/harbor-trivy           ClusterIP   10.217.4.226   <none>        8080/TCP            102s\n",
      "\n",
      "NAME                                   READY   UP-TO-DATE   AVAILABLE   AGE\n",
      "deployment.apps/harbor-chartmuseum     1/1     1            1           102s\n",
      "deployment.apps/harbor-core            1/1     1            1           102s\n",
      "deployment.apps/harbor-jobservice      1/1     1            1           102s\n",
      "deployment.apps/harbor-notary-server   1/1     1            1           102s\n",
      "deployment.apps/harbor-notary-signer   1/1     1            1           102s\n",
      "deployment.apps/harbor-portal          1/1     1            1           102s\n",
      "deployment.apps/harbor-registry        1/1     1            1           102s\n",
      "\n",
      "NAME                                             DESIRED   CURRENT   READY   AGE\n",
      "replicaset.apps/harbor-chartmuseum-74bf669bf6    1         1         1       102s\n",
      "replicaset.apps/harbor-core-7475b56c96           1         1         1       102s\n",
      "replicaset.apps/harbor-jobservice-7f7f464857     1         1         1       102s\n",
      "replicaset.apps/harbor-notary-server-ffb8c7887   1         1         1       102s\n",
      "replicaset.apps/harbor-notary-signer-59fbb6cc5   1         1         1       102s\n",
      "replicaset.apps/harbor-portal-6bfb7684b5         1         1         1       102s\n",
      "replicaset.apps/harbor-registry-6988cd44bf       1         1         1       102s\n",
      "\n",
      "NAME                               READY   AGE\n",
      "statefulset.apps/harbor-database   1/1     102s\n",
      "statefulset.apps/harbor-redis      1/1     102s\n",
      "statefulset.apps/harbor-trivy      1/1     102s\n",
      "\n",
      "NAME                                                   HOST/PORT                 PATH          SERVICES               PORT       TERMINATION     WILDCARD\n",
      "route.route.openshift.io/harbor-ingress-4mbws          ocr.apps-crc.testing      /             harbor-portal          <all>      edge/Redirect   None\n",
      "route.route.openshift.io/harbor-ingress-ccmbw          ocr.apps-crc.testing      /v2           harbor-core            http-web   edge/Redirect   None\n",
      "route.route.openshift.io/harbor-ingress-f42gs          ocr.apps-crc.testing      /api/         harbor-core            http-web   edge/Redirect   None\n",
      "route.route.openshift.io/harbor-ingress-jntdh          ocr.apps-crc.testing      /c/           harbor-core            http-web   edge/Redirect   None\n",
      "route.route.openshift.io/harbor-ingress-n7qwv          ocr.apps-crc.testing      /service/     harbor-core            http-web   edge/Redirect   None\n",
      "route.route.openshift.io/harbor-ingress-notary-q5jv2   notary.apps-crc.testing   /             harbor-notary-server   <all>      edge/Redirect   None\n",
      "route.route.openshift.io/harbor-ingress-xwctj          ocr.apps-crc.testing      /chartrepo/   harbor-core            http-web   edge/Redirect   None\n"
     ]
    }
   ],
   "source": [
    "oc get all"
   ]
  },
  {
   "cell_type": "code",
   "execution_count": 57,
   "id": "cb8b3be3-a002-493f-b433-2041874c98ab",
   "metadata": {},
   "outputs": [
    {
     "name": "stdout",
     "output_type": "stream",
     "text": [
      "ls: cannot access '/var/lib/postgresql/data/pgdata': No such file or directory\n",
      "The files belonging to this database system will be owned by user \"postgres\".\n",
      "This user must also own the server process.\n",
      "\n",
      "The database cluster will be initialized with locales\n",
      "  COLLATE:  en_US.UTF-8\n",
      "  CTYPE:    en_US.UTF-8\n",
      "  MESSAGES: C\n",
      "  MONETARY: C\n",
      "  NUMERIC:  C\n",
      "  TIME:     C\n",
      "The default text search configuration will be set to \"english\".\n",
      "\n",
      "Data page checksums are disabled.\n",
      "\n",
      "creating directory /var/lib/postgresql/data/pgdata/pg13 ... ok\n",
      "creating subdirectories ... ok\n",
      "selecting dynamic shared memory implementation ... posix\n",
      "selecting default max_connections ... 100\n",
      "selecting default shared_buffers ... 128MB\n",
      "selecting default time zone ... UTC\n",
      "creating configuration files ... ok\n",
      "running bootstrap script ... ok\n",
      "performing post-bootstrap initialization ... ok\n",
      "syncing data to disk ... ok\n",
      "\n",
      "\n",
      "Success. You can now start the database server using:\n",
      "\n",
      "    pg_ctl -D /var/lib/postgresql/data/pgdata/pg13 -l logfile start\n",
      "\n",
      "initdb: warning: enabling \"trust\" authentication for local connections\n",
      "You can change this by editing pg_hba.conf or using the option -A, or\n",
      "--auth-local and --auth-host, the next time you run initdb.\n",
      "postgres\n",
      "waiting for server to start....2022-06-11 18:30:30.843 UTC [39] LOG:  starting PostgreSQL 13.7 on x86_64-pc-linux-gnu, compiled by gcc (GCC) 10.2.0, 64-bit\n",
      "2022-06-11 18:30:30.848 UTC [39] LOG:  listening on Unix socket \"/run/postgresql/.s.PGSQL.5432\"\n",
      "2022-06-11 18:30:30.853 UTC [40] LOG:  database system was shut down at 2022-06-11 18:30:29 UTC\n",
      "2022-06-11 18:30:30.858 UTC [39] LOG:  database system is ready to accept connections\n",
      " done\n",
      "server started\n",
      "ALTER ROLE\n",
      "\n",
      "\n",
      "/docker-entrypoint.sh: running /docker-entrypoint-initdb.d/initial-notaryserver.sql\n",
      "CREATE DATABASE\n",
      "CREATE ROLE\n",
      "ALTER ROLE\n",
      "GRANT\n",
      "\n",
      "\n",
      "/docker-entrypoint.sh: running /docker-entrypoint-initdb.d/initial-notarysigner.sql\n",
      "CREATE DATABASE\n",
      "CREATE ROLE\n",
      "ALTER ROLE\n",
      "GRANT\n",
      "\n",
      "\n",
      "/docker-entrypoint.sh: running /docker-entrypoint-initdb.d/initial-registry.sql\n",
      "CREATE DATABASE\n",
      "You are now connected to database \"registry\" as user \"postgres\".\n",
      "CREATE TABLE\n",
      "\n",
      "\n",
      "2022-06-11 18:30:32.084 UTC [39] LOG:  received fast shutdown request\n",
      "waiting for server to shut down....2022-06-11 18:30:32.084 UTC [39] LOG:  aborting any active transactions\n",
      "2022-06-11 18:30:32.085 UTC [39] LOG:  background worker \"logical replication launcher\" (PID 46) exited with exit code 1\n",
      "2022-06-11 18:30:32.090 UTC [41] LOG:  shutting down\n",
      "2022-06-11 18:30:32.112 UTC [39] LOG:  database system is shut down\n",
      " done\n",
      "server stopped\n",
      "\n",
      "PostgreSQL init process complete; ready for start up.\n",
      "\n",
      "2022-06-11 18:30:32.216 UTC [1] LOG:  starting PostgreSQL 13.7 on x86_64-pc-linux-gnu, compiled by gcc (GCC) 10.2.0, 64-bit\n",
      "2022-06-11 18:30:32.216 UTC [1] LOG:  listening on IPv4 address \"0.0.0.0\", port 5432\n",
      "2022-06-11 18:30:32.216 UTC [1] LOG:  listening on IPv6 address \"::\", port 5432\n",
      "2022-06-11 18:30:32.219 UTC [1] LOG:  listening on Unix socket \"/run/postgresql/.s.PGSQL.5432\"\n",
      "2022-06-11 18:30:32.226 UTC [57] LOG:  database system was shut down at 2022-06-11 18:30:32 UTC\n",
      "2022-06-11 18:30:32.232 UTC [1] LOG:  database system is ready to accept connections\n"
     ]
    }
   ],
   "source": [
    "oc logs harbor-database-0 "
   ]
  },
  {
   "cell_type": "code",
   "execution_count": 58,
   "id": "a13a877b-3aeb-4542-b842-7d6de5b61715",
   "metadata": {},
   "outputs": [
    {
     "name": "stdout",
     "output_type": "stream",
     "text": [
      "NAME                                       CAPACITY   ACCESS MODES   RECLAIM POLICY   STATUS      CLAIM                                                 STORAGECLASS   REASON   AGE\n",
      "pv0001                                     100Gi      RWO,ROX,RWX    Recycle          Bound       openshift-image-registry/crc-image-registry-storage                           55d\n",
      "pv0002                                     100Gi      RWO,ROX,RWX    Recycle          Available                                                                                 55d\n",
      "pv0003                                     100Gi      RWO,ROX,RWX    Recycle          Available                                                                                 55d\n",
      "pv0004                                     100Gi      RWO,ROX,RWX    Recycle          Available                                                                                 55d\n",
      "pv0005                                     100Gi      RWO,ROX,RWX    Recycle          Available                                                                                 55d\n",
      "pv0006                                     100Gi      RWO,ROX,RWX    Recycle          Available                                                                                 55d\n",
      "pv0007                                     100Gi      RWO,ROX,RWX    Recycle          Available                                                                                 55d\n",
      "pv0008                                     100Gi      RWO,ROX,RWX    Recycle          Available                                                                                 55d\n",
      "pv0009                                     100Gi      RWO,ROX,RWX    Recycle          Available                                                                                 55d\n",
      "pv0010                                     100Gi      RWO,ROX,RWX    Recycle          Available                                                                                 55d\n",
      "pv0011                                     100Gi      RWO,ROX,RWX    Recycle          Available                                                                                 55d\n",
      "pv0012                                     100Gi      RWO,ROX,RWX    Recycle          Available                                                                                 55d\n",
      "pv0013                                     100Gi      RWO,ROX,RWX    Recycle          Available                                                                                 55d\n",
      "pv0014                                     100Gi      RWO,ROX,RWX    Recycle          Available                                                                                 55d\n",
      "pv0015                                     100Gi      RWO,ROX,RWX    Recycle          Available                                                                                 55d\n",
      "pv0016                                     100Gi      RWO,ROX,RWX    Recycle          Available                                                                                 55d\n",
      "pv0017                                     100Gi      RWO,ROX,RWX    Recycle          Available                                                                                 55d\n",
      "pv0018                                     100Gi      RWO,ROX,RWX    Recycle          Available                                                                                 55d\n",
      "pv0019                                     100Gi      RWO,ROX,RWX    Recycle          Available                                                                                 55d\n",
      "pv0020                                     100Gi      RWO,ROX,RWX    Recycle          Available                                                                                 55d\n",
      "pv0021                                     100Gi      RWO,ROX,RWX    Recycle          Available                                                                                 55d\n",
      "pv0022                                     100Gi      RWO,ROX,RWX    Recycle          Available                                                                                 55d\n",
      "pv0023                                     100Gi      RWO,ROX,RWX    Recycle          Available                                                                                 55d\n",
      "pv0024                                     100Gi      RWO,ROX,RWX    Recycle          Available                                                                                 55d\n",
      "pv0025                                     100Gi      RWO,ROX,RWX    Recycle          Available                                                                                 55d\n",
      "pv0026                                     100Gi      RWO,ROX,RWX    Recycle          Available                                                                                 55d\n",
      "pv0027                                     100Gi      RWO,ROX,RWX    Recycle          Available                                                                                 55d\n",
      "pv0028                                     100Gi      RWO,ROX,RWX    Recycle          Available                                                                                 55d\n",
      "pv0029                                     100Gi      RWO,ROX,RWX    Recycle          Available                                                                                 55d\n",
      "pv0030                                     100Gi      RWO,ROX,RWX    Recycle          Available                                                                                 55d\n",
      "pvc-71f2c760-e695-4069-a596-852ddaa14c26   5Gi        RWO            Delete           Bound       harbor/data-harbor-trivy-0                            nfs-client              2m26s\n",
      "pvc-7637f7b0-2f10-4337-8341-5542315cc5ba   1Gi        RWO            Delete           Bound       harbor/data-harbor-redis-0                            nfs-client              2m26s\n",
      "pvc-7e84f256-74f6-4284-90f5-2ce0e9dfdcb6   1Gi        RWO            Delete           Bound       harbor/harbor-jobservice                              nfs-client              2m27s\n",
      "pvc-801fed63-171f-4162-b776-a9e38fc354c9   50Gi       RWX            Delete           Bound       harbor/harbor-registry                                nfs-client              2m27s\n",
      "pvc-bc7ca796-0026-45da-980d-c49c37d68ec7   5Gi        RWO            Delete           Bound       harbor/database-data-harbor-database-0                nfs-client              2m26s\n",
      "pvc-d1c1670b-77e8-4108-9ae6-c54876dae4a5   5Gi        RWO            Delete           Bound       harbor/harbor-chartmuseum                             nfs-client              2m27s\n"
     ]
    }
   ],
   "source": [
    "oc get pv"
   ]
  },
  {
   "cell_type": "code",
   "execution_count": 32,
   "id": "1ac72e9c-8a7c-4b66-b48f-ac291b7a1160",
   "metadata": {
    "tags": []
   },
   "outputs": [
    {
     "name": "stdout",
     "output_type": "stream",
     "text": [
      "These resources were kept due to the resource policy:\n",
      "[PersistentVolumeClaim] my-harbor-chartmuseum\n",
      "[PersistentVolumeClaim] my-harbor-jobservice\n",
      "[PersistentVolumeClaim] my-harbor-registry\n",
      "\n",
      "release \"my\" uninstalled\n"
     ]
    }
   ],
   "source": [
    "helm uninstall my"
   ]
  },
  {
   "cell_type": "code",
   "execution_count": 35,
   "id": "e6ee25a8-ade7-497f-953d-2d034c70b5ad",
   "metadata": {},
   "outputs": [
    {
     "name": "stdout",
     "output_type": "stream",
     "text": [
      "No resources found in harbor namespace.\n"
     ]
    }
   ],
   "source": [
    "oc get pvc"
   ]
  },
  {
   "cell_type": "code",
   "execution_count": 34,
   "id": "759d0fff-a4f5-4cb7-81ab-0ab648a2a645",
   "metadata": {},
   "outputs": [
    {
     "name": "stdout",
     "output_type": "stream",
     "text": [
      "persistentvolumeclaim \"data-my-harbor-redis-0\" deleted\n",
      "persistentvolumeclaim \"data-my-harbor-trivy-0\" deleted\n",
      "persistentvolumeclaim \"database-data-my-harbor-database-0\" deleted\n",
      "persistentvolumeclaim \"my-harbor-chartmuseum\" deleted\n",
      "persistentvolumeclaim \"my-harbor-jobservice\" deleted\n",
      "persistentvolumeclaim \"my-harbor-registry\" deleted\n"
     ]
    }
   ],
   "source": [
    "oc delete pvc data-my-harbor-redis-0 data-my-harbor-trivy-0 database-data-my-harbor-database-0  my-harbor-chartmuseum my-harbor-jobservice my-harbor-registry    "
   ]
  },
  {
   "cell_type": "code",
   "execution_count": 40,
   "id": "dc8a6767-d920-4725-9409-9d02fc90bdfd",
   "metadata": {},
   "outputs": [
    {
     "name": "stdout",
     "output_type": "stream",
     "text": [
      "NAME     CAPACITY   ACCESS MODES   RECLAIM POLICY   STATUS      CLAIM                                                 STORAGECLASS   REASON   AGE\n",
      "pv0001   100Gi      RWO,ROX,RWX    Recycle          Bound       openshift-image-registry/crc-image-registry-storage                           15d\n",
      "pv0002   100Gi      RWO,ROX,RWX    Recycle          Available                                                                                 15d\n",
      "pv0004   100Gi      RWO,ROX,RWX    Recycle          Available                                                                                 15d\n",
      "pv0005   100Gi      RWO,ROX,RWX    Recycle          Available                                                                                 15d\n",
      "pv0006   100Gi      RWO,ROX,RWX    Recycle          Available                                                                                 15d\n",
      "pv0007   100Gi      RWO,ROX,RWX    Recycle          Available                                                                                 15d\n",
      "pv0008   100Gi      RWO,ROX,RWX    Recycle          Available                                                                                 15d\n",
      "pv0010   100Gi      RWO,ROX,RWX    Recycle          Available                                                                                 15d\n",
      "pv0011   100Gi      RWO,ROX,RWX    Recycle          Available                                                                                 15d\n",
      "pv0012   100Gi      RWO,ROX,RWX    Recycle          Available                                                                                 15d\n",
      "pv0013   100Gi      RWO,ROX,RWX    Recycle          Available                                                                                 15d\n",
      "pv0014   100Gi      RWO,ROX,RWX    Recycle          Available                                                                                 15d\n",
      "pv0016   100Gi      RWO,ROX,RWX    Recycle          Available                                                                                 15d\n",
      "pv0017   100Gi      RWO,ROX,RWX    Recycle          Available                                                                                 15d\n",
      "pv0018   100Gi      RWO,ROX,RWX    Recycle          Available                                                                                 15d\n",
      "pv0019   100Gi      RWO,ROX,RWX    Recycle          Available                                                                                 15d\n",
      "pv0020   100Gi      RWO,ROX,RWX    Recycle          Available                                                                                 15d\n",
      "pv0021   100Gi      RWO,ROX,RWX    Recycle          Available                                                                                 15d\n",
      "pv0022   100Gi      RWO,ROX,RWX    Recycle          Available                                                                                 15d\n",
      "pv0023   100Gi      RWO,ROX,RWX    Recycle          Available                                                                                 15d\n",
      "pv0024   100Gi      RWO,ROX,RWX    Recycle          Available                                                                                 15d\n",
      "pv0025   100Gi      RWO,ROX,RWX    Recycle          Available                                                                                 15d\n",
      "pv0026   100Gi      RWO,ROX,RWX    Recycle          Available                                                                                 15d\n",
      "pv0027   100Gi      RWO,ROX,RWX    Recycle          Available                                                                                 15d\n",
      "pv0028   100Gi      RWO,ROX,RWX    Recycle          Available                                                                                 15d\n",
      "pv0029   100Gi      RWO,ROX,RWX    Recycle          Available                                                                                 15d\n",
      "pv0030   100Gi      RWO,ROX,RWX    Recycle          Available                                                                                 15d\n"
     ]
    }
   ],
   "source": [
    "oc get pv"
   ]
  },
  {
   "cell_type": "code",
   "execution_count": 39,
   "id": "a77da149-b7dd-4fc8-992c-50cb6e74681d",
   "metadata": {},
   "outputs": [
    {
     "name": "stdout",
     "output_type": "stream",
     "text": [
      "persistentvolume \"pv0003\" deleted\n",
      "persistentvolume \"pv0009\" deleted\n",
      "persistentvolume \"pv0015\" deleted\n"
     ]
    }
   ],
   "source": [
    "oc delete pv pv0003 pv0009 pv0015"
   ]
  },
  {
   "cell_type": "code",
   "execution_count": 41,
   "id": "287be496-5219-4055-b0f3-d09a54c8b184",
   "metadata": {},
   "outputs": [
    {
     "name": "stdout",
     "output_type": "stream",
     "text": [
      "NAME: my\n",
      "LAST DEPLOYED: Mon May  2 11:52:14 2022\n",
      "NAMESPACE: harbor\n",
      "STATUS: deployed\n",
      "REVISION: 1\n",
      "TEST SUITE: None\n",
      "NOTES:\n",
      "Please wait for several minutes for Harbor deployment to complete.\n",
      "Then you should be able to visit the Harbor portal at https://core.harbor.domain\n",
      "For more details, please visit https://github.com/goharbor/harbor\n"
     ]
    }
   ],
   "source": [
    "helm install my harbor/harbor \\\n",
    "--set persistence.persistentVolumeClaim.registry.accessMode=ReadWriteMany \\\n",
    "--set persistence.persistentVolumeClaim.registry.size=50Gi \\\n",
    "--set persistence.persistentVolumeClaim.chartmuseum.size=5Gi \\\n",
    "--set persistence.persistentVolumeClaim.database.size=5Gi \\\n",
    "--set harborAdminPassword=H@rb0rAdm \\\n",
    "-n harbor"
   ]
  },
  {
   "cell_type": "code",
   "execution_count": 46,
   "id": "35877ad1-bf6f-42d7-8aea-230cc469adde",
   "metadata": {},
   "outputs": [
    {
     "name": "stdout",
     "output_type": "stream",
     "text": [
      "NAME                                           READY   STATUS             RESTARTS      AGE\n",
      "pod/my-harbor-chartmuseum-b579b7748-5s8gv      1/1     Running            0             41s\n",
      "pod/my-harbor-core-f8565cf98-hzlhn             0/1     Running            0             41s\n",
      "pod/my-harbor-database-0                       0/1     CrashLoopBackOff   2 (17s ago)   41s\n",
      "pod/my-harbor-jobservice-5fd46cb686-lrklx      0/1     Running            0             41s\n",
      "pod/my-harbor-notary-server-846567cd67-rkm42   0/1     Running            1 (8s ago)    41s\n",
      "pod/my-harbor-notary-signer-6fb886b997-ts7s4   0/1     Running            1 (9s ago)    41s\n",
      "pod/my-harbor-portal-5f5d5fbc77-g4mr2          1/1     Running            0             41s\n",
      "pod/my-harbor-redis-0                          0/1     CrashLoopBackOff   2 (14s ago)   41s\n",
      "pod/my-harbor-registry-76d6b6cb78-ltf2b        2/2     Running            0             41s\n",
      "pod/my-harbor-trivy-0                          0/1     CrashLoopBackOff   2 (17s ago)   41s\n",
      "\n",
      "NAME                              TYPE        CLUSTER-IP     EXTERNAL-IP   PORT(S)             AGE\n",
      "service/my-harbor-chartmuseum     ClusterIP   10.217.4.188   <none>        80/TCP              42s\n",
      "service/my-harbor-core            ClusterIP   10.217.4.142   <none>        80/TCP              42s\n",
      "service/my-harbor-database        ClusterIP   10.217.4.119   <none>        5432/TCP            41s\n",
      "service/my-harbor-jobservice      ClusterIP   10.217.5.137   <none>        80/TCP              42s\n",
      "service/my-harbor-notary-server   ClusterIP   10.217.5.53    <none>        4443/TCP            41s\n",
      "service/my-harbor-notary-signer   ClusterIP   10.217.4.145   <none>        7899/TCP            42s\n",
      "service/my-harbor-portal          ClusterIP   10.217.4.148   <none>        80/TCP              41s\n",
      "service/my-harbor-redis           ClusterIP   10.217.5.131   <none>        6379/TCP            41s\n",
      "service/my-harbor-registry        ClusterIP   10.217.4.17    <none>        5000/TCP,8080/TCP   41s\n",
      "service/my-harbor-trivy           ClusterIP   10.217.5.9     <none>        8080/TCP            41s\n",
      "\n",
      "NAME                                      READY   UP-TO-DATE   AVAILABLE   AGE\n",
      "deployment.apps/my-harbor-chartmuseum     1/1     1            1           41s\n",
      "deployment.apps/my-harbor-core            0/1     1            0           41s\n",
      "deployment.apps/my-harbor-jobservice      0/1     1            0           41s\n",
      "deployment.apps/my-harbor-notary-server   0/1     1            0           41s\n",
      "deployment.apps/my-harbor-notary-signer   0/1     1            0           41s\n",
      "deployment.apps/my-harbor-portal          1/1     1            1           41s\n",
      "deployment.apps/my-harbor-registry        1/1     1            1           41s\n",
      "\n",
      "NAME                                                 DESIRED   CURRENT   READY   AGE\n",
      "replicaset.apps/my-harbor-chartmuseum-b579b7748      1         1         1       41s\n",
      "replicaset.apps/my-harbor-core-f8565cf98             1         1         0       41s\n",
      "replicaset.apps/my-harbor-jobservice-5fd46cb686      1         1         0       41s\n",
      "replicaset.apps/my-harbor-notary-server-846567cd67   1         1         0       41s\n",
      "replicaset.apps/my-harbor-notary-signer-6fb886b997   1         1         0       41s\n",
      "replicaset.apps/my-harbor-portal-5f5d5fbc77          1         1         1       41s\n",
      "replicaset.apps/my-harbor-registry-76d6b6cb78        1         1         1       41s\n",
      "\n",
      "NAME                                  READY   AGE\n",
      "statefulset.apps/my-harbor-database   0/1     41s\n",
      "statefulset.apps/my-harbor-redis      0/1     41s\n",
      "statefulset.apps/my-harbor-trivy      0/1     41s\n",
      "\n",
      "NAME                                                      HOST/PORT              PATH          SERVICES                  PORT       TERMINATION     WILDCARD\n",
      "route.route.openshift.io/my-harbor-ingress-74czk          core.harbor.domain     /api/         my-harbor-core            http-web   edge/Redirect   None\n",
      "route.route.openshift.io/my-harbor-ingress-7kbk5          core.harbor.domain     /             my-harbor-portal          <all>      edge/Redirect   None\n",
      "route.route.openshift.io/my-harbor-ingress-7x7zf          core.harbor.domain     /chartrepo/   my-harbor-core            http-web   edge/Redirect   None\n",
      "route.route.openshift.io/my-harbor-ingress-b95kp          core.harbor.domain     /v2           my-harbor-core            http-web   edge/Redirect   None\n",
      "route.route.openshift.io/my-harbor-ingress-dnx2l          core.harbor.domain     /c/           my-harbor-core            http-web   edge/Redirect   None\n",
      "route.route.openshift.io/my-harbor-ingress-notary-928t2   notary.harbor.domain   /             my-harbor-notary-server   <all>      edge/Redirect   None\n",
      "route.route.openshift.io/my-harbor-ingress-s7dzw          core.harbor.domain     /service/     my-harbor-core            http-web   edge/Redirect   None\n"
     ]
    }
   ],
   "source": [
    "oc get all"
   ]
  },
  {
   "cell_type": "code",
   "execution_count": 47,
   "id": "f352ecaf-5ef1-439f-904e-fd9a085357bf",
   "metadata": {},
   "outputs": [
    {
     "name": "stdout",
     "output_type": "stream",
     "text": [
      "ls: cannot access '/var/lib/postgresql/data/pgdata': Permission denied\n",
      "The files belonging to this database system will be owned by user \"postgres\".\n",
      "This user must also own the server process.\n",
      "\n",
      "The database cluster will be initialized with locales\n",
      "  COLLATE:  en_US.UTF-8\n",
      "  CTYPE:    en_US.UTF-8\n",
      "  MESSAGES: C\n",
      "  MONETARY: C\n",
      "  NUMERIC:  C\n",
      "  TIME:     C\n",
      "The default text search configuration will be set to \"english\".\n",
      "\n",
      "Data page checksums are disabled.\n",
      "\n",
      "initdb: error: could not access directory \"/var/lib/postgresql/data/pgdata/pg13\": Permission denied\n"
     ]
    }
   ],
   "source": [
    "oc logs my-harbor-database-0 "
   ]
  },
  {
   "cell_type": "code",
   "execution_count": 55,
   "id": "4bd18ac2-e2b1-4628-a59b-959a73e51dc0",
   "metadata": {},
   "outputs": [
    {
     "name": "stdout",
     "output_type": "stream",
     "text": [
      "These resources were kept due to the resource policy:\n",
      "[PersistentVolumeClaim] my-harbor-chartmuseum\n",
      "[PersistentVolumeClaim] my-harbor-jobservice\n",
      "[PersistentVolumeClaim] my-harbor-registry\n",
      "\n",
      "release \"my\" uninstalled\n"
     ]
    }
   ],
   "source": [
    "helm uninstall my"
   ]
  },
  {
   "cell_type": "code",
   "execution_count": 58,
   "id": "941ef855-f8ee-4d2c-a850-ca62aa0ea141",
   "metadata": {},
   "outputs": [
    {
     "name": "stdout",
     "output_type": "stream",
     "text": [
      "data-my-harbor-redis-0 data-my-harbor-trivy-0 database-data-my-harbor-database-0 my-harbor-chartmuseum my-harbor-jobservice my-harbor-registry"
     ]
    }
   ],
   "source": [
    "oc get pvc -o jsonpath='{.items[*].metadata.name}'"
   ]
  },
  {
   "cell_type": "code",
   "execution_count": 59,
   "id": "3c817794-10f8-49ce-a715-adaae3c1974d",
   "metadata": {},
   "outputs": [
    {
     "name": "stdout",
     "output_type": "stream",
     "text": [
      "persistentvolumeclaim \"data-my-harbor-redis-0\" deleted\n",
      "persistentvolumeclaim \"data-my-harbor-trivy-0\" deleted\n",
      "persistentvolumeclaim \"database-data-my-harbor-database-0\" deleted\n",
      "persistentvolumeclaim \"my-harbor-chartmuseum\" deleted\n",
      "persistentvolumeclaim \"my-harbor-jobservice\" deleted\n",
      "persistentvolumeclaim \"my-harbor-registry\" deleted\n"
     ]
    }
   ],
   "source": [
    "oc delete pvc $(oc get pvc -o jsonpath='{.items[*].metadata.name}')"
   ]
  },
  {
   "cell_type": "code",
   "execution_count": 60,
   "id": "0082a561-fc28-4353-9d66-9e377505ff67",
   "metadata": {},
   "outputs": [
    {
     "name": "stdout",
     "output_type": "stream",
     "text": [
      "project.project.openshift.io \"harbor\" deleted\n"
     ]
    }
   ],
   "source": [
    "oc delete project harbor"
   ]
  },
  {
   "cell_type": "code",
   "execution_count": 3,
   "id": "966357bf-666d-45f0-9547-3ef2be13c01d",
   "metadata": {},
   "outputs": [
    {
     "name": "stdout",
     "output_type": "stream",
     "text": [
      "NAME                                       CAPACITY   ACCESS MODES   RECLAIM POLICY   STATUS      CLAIM                                                 STORAGECLASS   REASON   AGE\n",
      "pv0001                                     100Gi      RWO,ROX,RWX    Recycle          Bound       openshift-image-registry/crc-image-registry-storage                           16d\n",
      "pv0002                                     100Gi      RWO,ROX,RWX    Recycle          Available                                                                                 16d\n",
      "pv0004                                     100Gi      RWO,ROX,RWX    Recycle          Available                                                                                 16d\n",
      "pv0005                                     100Gi      RWO,ROX,RWX    Recycle          Available                                                                                 16d\n",
      "pv0006                                     100Gi      RWO,ROX,RWX    Recycle          Available                                                                                 16d\n",
      "pv0007                                     100Gi      RWO,ROX,RWX    Recycle          Available                                                                                 16d\n",
      "pv0008                                     100Gi      RWO,ROX,RWX    Recycle          Available                                                                                 16d\n",
      "pv0010                                     100Gi      RWO,ROX,RWX    Recycle          Available                                                                                 16d\n",
      "pv0011                                     100Gi      RWO,ROX,RWX    Recycle          Available                                                                                 16d\n",
      "pv0012                                     100Gi      RWO,ROX,RWX    Recycle          Available                                                                                 16d\n",
      "pv0013                                     100Gi      RWO,ROX,RWX    Recycle          Available                                                                                 16d\n",
      "pv0014                                     100Gi      RWO,ROX,RWX    Recycle          Available                                                                                 16d\n",
      "pv0016                                     100Gi      RWO,ROX,RWX    Recycle          Available                                                                                 16d\n",
      "pv0017                                     100Gi      RWO,ROX,RWX    Recycle          Available                                                                                 16d\n",
      "pv0018                                     100Gi      RWO,ROX,RWX    Recycle          Available                                                                                 16d\n",
      "pv0019                                     100Gi      RWO,ROX,RWX    Recycle          Available                                                                                 16d\n",
      "pv0020                                     100Gi      RWO,ROX,RWX    Recycle          Available                                                                                 16d\n",
      "pv0021                                     100Gi      RWO,ROX,RWX    Recycle          Available                                                                                 16d\n",
      "pv0022                                     100Gi      RWO,ROX,RWX    Recycle          Available                                                                                 16d\n",
      "pv0023                                     100Gi      RWO,ROX,RWX    Recycle          Available                                                                                 16d\n",
      "pv0024                                     100Gi      RWO,ROX,RWX    Recycle          Available                                                                                 16d\n",
      "pv0025                                     100Gi      RWO,ROX,RWX    Recycle          Available                                                                                 16d\n",
      "pv0026                                     100Gi      RWO,ROX,RWX    Recycle          Available                                                                                 16d\n",
      "pv0027                                     100Gi      RWO,ROX,RWX    Recycle          Available                                                                                 16d\n",
      "pv0028                                     100Gi      RWO,ROX,RWX    Recycle          Available                                                                                 16d\n",
      "pv0029                                     100Gi      RWO,ROX,RWX    Recycle          Available                                                                                 16d\n",
      "pv0030                                     100Gi      RWO,ROX,RWX    Recycle          Available                                                                                 16d\n",
      "pvc-14a3f7a1-1b1b-4f0a-b08a-126593b47fff   1Gi        RWO            Delete           Bound       harbor/harbor-jobservice                              nfs-client              20h\n",
      "pvc-28e96c3a-39ed-475b-a651-c5e25f8f31b8   50Gi       RWX            Delete           Bound       harbor/harbor-registry                                nfs-client              20h\n",
      "pvc-49e0d362-18bc-40fd-813c-ba521807f291   5Gi        RWO            Delete           Bound       harbor/database-data-harbor-database-0                nfs-client              20h\n",
      "pvc-9ff88384-8eb8-4599-a9c1-aa5160b4cfa3   5Gi        RWO            Delete           Bound       harbor/data-harbor-trivy-0                            nfs-client              20h\n",
      "pvc-af1ae0a9-54dd-45a7-9e52-203d5f69158e   1Gi        RWO            Delete           Bound       harbor/data-harbor-redis-0                            nfs-client              20h\n",
      "pvc-e3647615-420d-4b52-a365-bbd6b7dbaa00   5Gi        RWO            Delete           Bound       harbor/harbor-chartmuseum                             nfs-client              20h\n"
     ]
    }
   ],
   "source": [
    "oc get pv"
   ]
  },
  {
   "cell_type": "code",
   "execution_count": 4,
   "id": "cec688e1-cbfe-4deb-bd8b-c1b85e672b35",
   "metadata": {},
   "outputs": [
    {
     "name": "stdout",
     "output_type": "stream",
     "text": [
      "NAME                   PROVISIONER                                     RECLAIMPOLICY   VOLUMEBINDINGMODE   ALLOWVOLUMEEXPANSION   AGE\n",
      "nfs-client (default)   cluster.local/nfs-subdir-external-provisioner   Delete          Immediate           true                   20h\n"
     ]
    }
   ],
   "source": [
    "oc get sc"
   ]
  },
  {
   "cell_type": "code",
   "execution_count": 17,
   "id": "d3481894-9eb2-427e-b69d-80030c92702b",
   "metadata": {},
   "outputs": [
    {
     "name": "stdout",
     "output_type": "stream",
     "text": [
      "NAME\tNAMESPACE\tREVISION\tUPDATED                                 \tSTATUS  \tCHART         \tAPP VERSION\n",
      "my  \targocd   \t1       \t2022-05-05 14:35:00.509345717 +0200 CEST\tdeployed\targo-cd-3.29.1\tv2.2.1     \n"
     ]
    }
   ],
   "source": [
    "helm ls"
   ]
  },
  {
   "cell_type": "code",
   "execution_count": 18,
   "id": "42532a5f-6084-4623-a7ed-338cbc8629e2",
   "metadata": {},
   "outputs": [
    {
     "name": "stdout",
     "output_type": "stream",
     "text": [
      "Now using project \"harbor\" on server \"https://api.crc.testing:6443\".\n"
     ]
    }
   ],
   "source": [
    "oc project harbor"
   ]
  },
  {
   "cell_type": "code",
   "execution_count": 19,
   "id": "3ccd4515-8487-4a34-ad5b-96a6bb1b4949",
   "metadata": {},
   "outputs": [
    {
     "name": "stdout",
     "output_type": "stream",
     "text": [
      "NAME                                        READY   STATUS    RESTARTS       AGE\n",
      "pod/harbor-chartmuseum-678fb8c649-4vt7l     1/1     Running   8              16d\n",
      "pod/harbor-core-768dc66c9d-5z4fg            1/1     Running   14             16d\n",
      "pod/harbor-database-0                       1/1     Running   9 (108m ago)   16d\n",
      "pod/harbor-jobservice-d6f794797-fwhtg       1/1     Running   9              16d\n",
      "pod/harbor-notary-server-557d494996-dr9hr   1/1     Running   28             16d\n",
      "pod/harbor-notary-signer-5d9659f989-wn7c8   1/1     Running   26             16d\n",
      "pod/harbor-portal-97fcbbd96-8g8sd           1/1     Running   9              16d\n",
      "pod/harbor-redis-0                          1/1     Running   8              16d\n",
      "pod/harbor-registry-5b9469b59-vvnhn         2/2     Running   16             16d\n",
      "pod/harbor-trivy-0                          1/1     Running   8              16d\n",
      "\n",
      "NAME                           TYPE        CLUSTER-IP     EXTERNAL-IP   PORT(S)             AGE\n",
      "service/harbor-chartmuseum     ClusterIP   10.217.4.45    <none>        80/TCP              16d\n",
      "service/harbor-core            ClusterIP   10.217.4.174   <none>        80/TCP              16d\n",
      "service/harbor-database        ClusterIP   10.217.4.151   <none>        5432/TCP            16d\n",
      "service/harbor-jobservice      ClusterIP   10.217.4.17    <none>        80/TCP              16d\n",
      "service/harbor-notary-server   ClusterIP   10.217.5.117   <none>        4443/TCP            16d\n",
      "service/harbor-notary-signer   ClusterIP   10.217.5.5     <none>        7899/TCP            16d\n",
      "service/harbor-portal          ClusterIP   10.217.5.195   <none>        80/TCP              16d\n",
      "service/harbor-redis           ClusterIP   10.217.4.100   <none>        6379/TCP            16d\n",
      "service/harbor-registry        ClusterIP   10.217.4.37    <none>        5000/TCP,8080/TCP   16d\n",
      "service/harbor-trivy           ClusterIP   10.217.4.159   <none>        8080/TCP            16d\n",
      "\n",
      "NAME                                   READY   UP-TO-DATE   AVAILABLE   AGE\n",
      "deployment.apps/harbor-chartmuseum     1/1     1            1           16d\n",
      "deployment.apps/harbor-core            1/1     1            1           16d\n",
      "deployment.apps/harbor-jobservice      1/1     1            1           16d\n",
      "deployment.apps/harbor-notary-server   1/1     1            1           16d\n",
      "deployment.apps/harbor-notary-signer   1/1     1            1           16d\n",
      "deployment.apps/harbor-portal          1/1     1            1           16d\n",
      "deployment.apps/harbor-registry        1/1     1            1           16d\n",
      "\n",
      "NAME                                              DESIRED   CURRENT   READY   AGE\n",
      "replicaset.apps/harbor-chartmuseum-56d4c86994     0         0         0       16d\n",
      "replicaset.apps/harbor-chartmuseum-5c4fd844d6     0         0         0       16d\n",
      "replicaset.apps/harbor-chartmuseum-678fb8c649     1         1         1       16d\n",
      "replicaset.apps/harbor-core-67dcf77969            0         0         0       16d\n",
      "replicaset.apps/harbor-core-75b4695b6             0         0         0       16d\n",
      "replicaset.apps/harbor-core-768dc66c9d            1         1         1       16d\n",
      "replicaset.apps/harbor-jobservice-5dd6b8958c      0         0         0       16d\n",
      "replicaset.apps/harbor-jobservice-67b57f545d      0         0         0       16d\n",
      "replicaset.apps/harbor-jobservice-d6f794797       1         1         1       16d\n",
      "replicaset.apps/harbor-notary-server-557d494996   1         1         1       16d\n",
      "replicaset.apps/harbor-notary-server-66b56fb869   0         0         0       16d\n",
      "replicaset.apps/harbor-notary-server-85f899ffcc   0         0         0       16d\n",
      "replicaset.apps/harbor-notary-signer-5d9659f989   1         1         1       16d\n",
      "replicaset.apps/harbor-notary-signer-7558bbd97f   0         0         0       16d\n",
      "replicaset.apps/harbor-notary-signer-bbf76757b    0         0         0       16d\n",
      "replicaset.apps/harbor-portal-97fcbbd96           1         1         1       16d\n",
      "replicaset.apps/harbor-registry-5b9469b59         1         1         1       16d\n",
      "replicaset.apps/harbor-registry-7d69479b67        0         0         0       16d\n",
      "replicaset.apps/harbor-registry-cb8d66975         0         0         0       16d\n",
      "\n",
      "NAME                               READY   AGE\n",
      "statefulset.apps/harbor-database   1/1     16d\n",
      "statefulset.apps/harbor-redis      1/1     16d\n",
      "statefulset.apps/harbor-trivy      1/1     16d\n",
      "\n",
      "NAME                                                   HOST/PORT                 PATH          SERVICES               PORT       TERMINATION     WILDCARD\n",
      "route.route.openshift.io/harbor-ingress-b7hqm          ocr.apps-crc.testing      /api/         harbor-core            http-web   edge/Redirect   None\n",
      "route.route.openshift.io/harbor-ingress-j68sb          ocr.apps-crc.testing      /c/           harbor-core            http-web   edge/Redirect   None\n",
      "route.route.openshift.io/harbor-ingress-notary-jtqz7   notary.apps-crc.testing   /             harbor-notary-server   <all>      edge/Redirect   None\n",
      "route.route.openshift.io/harbor-ingress-plh5n          ocr.apps-crc.testing      /service/     harbor-core            http-web   edge/Redirect   None\n",
      "route.route.openshift.io/harbor-ingress-rf655          ocr.apps-crc.testing      /chartrepo/   harbor-core            http-web   edge/Redirect   None\n",
      "route.route.openshift.io/harbor-ingress-sdwwh          ocr.apps-crc.testing      /v2           harbor-core            http-web   edge/Redirect   None\n",
      "route.route.openshift.io/harbor-ingress-wtd9m          ocr.apps-crc.testing      /             harbor-portal          <all>      edge/Redirect   None\n"
     ]
    }
   ],
   "source": [
    "oc get all"
   ]
  },
  {
   "cell_type": "code",
   "execution_count": 20,
   "id": "ec403365-7f91-41dc-849d-dc2f9bda26d3",
   "metadata": {},
   "outputs": [
    {
     "name": "stdout",
     "output_type": "stream",
     "text": [
      "NAME  \tNAMESPACE\tREVISION\tUPDATED                                 \tSTATUS  \tCHART       \tAPP VERSION\n",
      "harbor\tharbor   \t3       \t2022-05-02 13:55:36.506744432 +0200 CEST\tdeployed\tharbor-1.9.0\t2.5.0      \n"
     ]
    }
   ],
   "source": [
    "helm ls"
   ]
  },
  {
   "cell_type": "code",
   "execution_count": 21,
   "id": "67770e5a-998b-4c65-8878-268d5d240674",
   "metadata": {},
   "outputs": [
    {
     "name": "stdout",
     "output_type": "stream",
     "text": [
      "These resources were kept due to the resource policy:\n",
      "[PersistentVolumeClaim] harbor-chartmuseum\n",
      "[PersistentVolumeClaim] harbor-jobservice\n",
      "[PersistentVolumeClaim] harbor-registry\n",
      "\n",
      "release \"harbor\" uninstalled\n"
     ]
    }
   ],
   "source": [
    "helm uninstall harbor"
   ]
  },
  {
   "cell_type": "code",
   "execution_count": null,
   "id": "9c5dd101-5e1b-436b-9685-4b9035d2f1c7",
   "metadata": {},
   "outputs": [],
   "source": []
  }
 ],
 "metadata": {
  "kernelspec": {
   "display_name": "Bash",
   "language": "bash",
   "name": "bash"
  },
  "language_info": {
   "codemirror_mode": "shell",
   "file_extension": ".sh",
   "mimetype": "text/x-sh",
   "name": "bash"
  }
 },
 "nbformat": 4,
 "nbformat_minor": 5
}
